{
 "cells": [
  {
   "cell_type": "code",
   "execution_count": 4,
   "metadata": {},
   "outputs": [],
   "source": [
    "import sys\n",
    "import warnings\n",
    "if not sys.warnoptions:\n",
    "    warnings.simplefilter(\"ignore\")"
   ]
  },
  {
   "cell_type": "markdown",
   "metadata": {},
   "source": [
    "## SDSS Star Queries"
   ]
  },
  {
   "cell_type": "code",
   "execution_count": 1,
   "metadata": {},
   "outputs": [],
   "source": [
    "import pandas as pd\n",
    "\n",
    "df_Boss = pd.read_csv('BOSS_stars_301602.csv')\n",
    "df_eBoss = pd.read_csv('eBOSS_stars_146727.csv')\n",
    "df_SDSS = pd.read_csv('SDSS_stars_195073.csv')\n",
    "df_segue1 = pd.read_csv('segue1_stars_207411.csv')\n",
    "df_segue2 = pd.read_csv('segue2_stars_111024.csv')"
   ]
  },
  {
   "cell_type": "code",
   "execution_count": 2,
   "metadata": {},
   "outputs": [
    {
     "data": {
      "text/plain": [
       "961837"
      ]
     },
     "execution_count": 2,
     "metadata": {},
     "output_type": "execute_result"
    }
   ],
   "source": [
    "df_stars = pd.concat([\n",
    "     df_Boss,\n",
    "     df_eBoss,\n",
    "     df_SDSS,\n",
    "     df_segue1,\n",
    "     df_segue2\n",
    "], ignore_index=True, sort=False)\n",
    "df_stars.shape[0]"
   ]
  },
  {
   "cell_type": "code",
   "execution_count": 7,
   "metadata": {},
   "outputs": [],
   "source": [
    "import scipy as sp\n",
    "\n",
    "unique_stars = sp.unique(df_stars['subClass'].astype(str))\n"
   ]
  },
  {
   "cell_type": "code",
   "execution_count": 6,
   "metadata": {},
   "outputs": [
    {
     "data": {
      "text/plain": [
       "(164,)"
      ]
     },
     "execution_count": 6,
     "metadata": {},
     "output_type": "execute_result"
    }
   ],
   "source": [
    "unique_stars.shape"
   ]
  },
  {
   "cell_type": "code",
   "execution_count": 8,
   "metadata": {},
   "outputs": [
    {
     "data": {
      "text/plain": [
       "array(['A0', 'A0 (19510)', 'A0IVn (25642)', 'A0p', 'A1III (225180)',\n",
       "       'A1Iae (12953)', 'A1V (95418)', 'A1m (78209)', 'A2II (39866)',\n",
       "       'A2Ia (14489)', 'A3Iae (223385)', 'A4 (G_165-39)', 'A4V (136729)',\n",
       "       'A4V (97603)', 'A4p (G_37-26)', 'A5II (34578)', 'A5Ia (17378)',\n",
       "       'A6IV (28527)', 'A8V (155514)', 'A9V (154660)', 'Am (78362)',\n",
       "       'B0.5Iae (185859)', 'B0.5Ibe... (187459)', 'B0IVe (5394)',\n",
       "       'B1Ve (212571)', 'B2.5V (175426)', 'B2.5Ve (187811)',\n",
       "       'B2III (35468)', 'B2IV-V (176819)', 'B2Iaevar (41117)',\n",
       "       'B2Ve (164284)', 'B2Vne (202904)', 'B2Vne (58343)',\n",
       "       'B3II (175156)', 'B3Ib/II (51309)', 'B3V (29763)', 'B3Ve (25940)',\n",
       "       'B5 (338529)', 'B5III (209419)', 'B5Ib (191243)', 'B5V (173087)',\n",
       "       'B6', 'B6IIIpe (109387)', 'B6IV (174959)', 'B7IVe (209409)',\n",
       "       'B8III (220575)', 'B8IV (171301)', 'B8Ib (208501)', 'B9',\n",
       "       'B9 (105262)', 'B9.5V+... (37269)', 'B9III (15318)',\n",
       "       'B9Vn (177756)', 'CV', 'CalciumWD', 'Carbon', 'CarbonWD',\n",
       "       'Carbon_lines', 'F0II (25291)', 'F0III (89025)', 'F0IV (81937)',\n",
       "       'F0Ib (36673)', 'F0V (90277)', 'F2', 'F2III (89254)',\n",
       "       'F2V (33256)', 'F3/F5V (30743)', 'F5', 'F5Ib... (17463)',\n",
       "       'F6II (61295)', 'F6III (61064)', 'F6Iab: (187929)', 'F6V (16673)',\n",
       "       'F8Ibvar (45412)', 'F8V (30562)', 'F8V (G_243-63)', 'F9',\n",
       "       'F9IV (136064)', 'G0', 'G0 (63791)', 'G0 (G_101-29)',\n",
       "       'G0.5IV (14214)', 'G0Ib (204867)', 'G0Va (143761)', 'G1V (95128)',\n",
       "       'G2', 'G3Ib (58526)', 'G4V (32923)', 'G5', 'G5/G6IVw (26297)',\n",
       "       'G5III+... (157910)', 'G5Iab: (20123)', 'G8V (101501)',\n",
       "       'G8V (75732)', 'G9IV (100030)', 'G9Ib (221861)', 'K0IIIa (57669)',\n",
       "       'K0IV (191026)', 'K0V (10780)', 'K1', 'K1III (18322)',\n",
       "       'K1IVa (142091)', 'K1V... (25329)', 'K2III (115136)', 'K3',\n",
       "       'K3III (101673)', 'K3Iab: (4817)', 'K3Ib... (17506)',\n",
       "       'K3V (32147)', 'K3p (165195)', 'K4III (136726)', 'K4Iab: (34255)',\n",
       "       'K5', 'K5 (110281)', 'K5 (G_19-24)', 'K5III (111335)',\n",
       "       'K5III (120933)', 'K5Ve (118100)', 'K7', 'L0', 'L1', 'L2', 'L3',\n",
       "       'L4', 'L5', 'L5.5', 'L9', 'Ldwarf', 'M0', 'M0III (168720)', 'M0V',\n",
       "       'M1', 'M1 (204445)', 'M2', 'M2III (169305)', 'M2Iab: (36389)',\n",
       "       'M2V', 'M3', 'M3III (44478)', 'M4', 'M4.5:III (123657)',\n",
       "       'M4II (175588)', 'M5', 'M5III (221615)', 'M5Iab: (197812)', 'M6',\n",
       "       'M6III (148783)', 'M7', 'M7IIIevar (177940)', 'M8',\n",
       "       'M8IIIe (84748)', 'M9', 'O', 'O8/O9 (167771)', 'O8e (188001)',\n",
       "       'O9.5Iae (30614)', 'OB', 'T2', 'WD', 'WDcooler', 'WDhotter',\n",
       "       'WDmagnetic', 'sd:F0 (G_84-29)', 'sdF3 (140283)'], dtype=object)"
      ]
     },
     "execution_count": 8,
     "metadata": {},
     "output_type": "execute_result"
    }
   ],
   "source": [
    "unique_stars"
   ]
  },
  {
   "cell_type": "code",
   "execution_count": 10,
   "metadata": {},
   "outputs": [
    {
     "name": "stdout",
     "output_type": "stream",
     "text": [
      "A0: 55758\n",
      "A0 (19510): 50\n",
      "A0IVn (25642): 690\n",
      "A0p: 1088\n",
      "A1III (225180): 2296\n",
      "A1Iae (12953): 52\n",
      "A1V (95418): 2197\n",
      "A1m (78209): 216\n",
      "A2II (39866): 11994\n",
      "A2Ia (14489): 205\n",
      "A3Iae (223385): 93\n",
      "A4 (G_165-39): 411\n",
      "A4V (136729): 4019\n",
      "A4V (97603): 5823\n",
      "A4p (G_37-26): 439\n",
      "A5II (34578): 2078\n",
      "A5Ia (17378): 264\n",
      "A6IV (28527): 997\n",
      "A8V (155514): 2440\n",
      "A9V (154660): 3987\n",
      "Am (78362): 427\n",
      "B0.5Iae (185859): 32\n",
      "B0.5Ibe... (187459): 71\n",
      "B0IVe (5394): 30\n",
      "B1Ve (212571): 153\n",
      "B2.5V (175426): 276\n",
      "B2.5Ve (187811): 55\n",
      "B2III (35468): 172\n",
      "B2IV-V (176819): 579\n",
      "B2Iaevar (41117): 28\n",
      "B2Ve (164284): 33\n",
      "B2Vne (202904): 10\n",
      "B2Vne (58343): 131\n",
      "B3II (175156): 556\n",
      "B3Ib/II (51309): 212\n",
      "B3V (29763): 455\n",
      "B3Ve (25940): 15\n",
      "B5 (338529): 2581\n",
      "B5III (209419): 712\n",
      "B5Ib (191243): 160\n",
      "B5V (173087): 140\n",
      "B6: 487\n",
      "B6IIIpe (109387): 29\n",
      "B6IV (174959): 79\n",
      "B7IVe (209409): 25\n",
      "B8III (220575): 163\n",
      "B8IV (171301): 693\n",
      "B8Ib (208501): 110\n",
      "B9: 432\n",
      "B9 (105262): 396\n",
      "B9.5V+... (37269): 490\n",
      "B9III (15318): 765\n",
      "B9Vn (177756): 891\n",
      "CV: 12690\n",
      "CalciumWD: 1745\n",
      "Carbon: 1278\n",
      "CarbonWD: 271\n",
      "Carbon_lines: 498\n",
      "F0II (25291): 4505\n",
      "F0III (89025): 3010\n",
      "F0IV (81937): 17384\n",
      "F0Ib (36673): 2163\n",
      "F0V (90277): 3412\n",
      "F2: 13477\n",
      "F2III (89254): 1693\n",
      "F2V (33256): 8597\n",
      "F3/F5V (30743): 87135\n",
      "F5: 85204\n",
      "F5Ib... (17463): 1025\n",
      "F6II (61295): 851\n",
      "F6III (61064): 1441\n",
      "F6Iab: (187929): 389\n",
      "F6V (16673): 5520\n",
      "F8Ibvar (45412): 805\n",
      "F8V (30562): 6361\n",
      "F8V (G_243-63): 11518\n",
      "F9: 110274\n",
      "F9IV (136064): 1044\n",
      "G0: 10426\n",
      "G0 (63791): 6904\n",
      "G0 (G_101-29): 1443\n",
      "G0.5IV (14214): 346\n",
      "G0Ib (204867): 251\n",
      "G0Va (143761): 4361\n",
      "G1V (95128): 2655\n",
      "G2: 26792\n",
      "G3Ib (58526): 363\n",
      "G4V (32923): 10546\n",
      "G5: 1685\n",
      "G5/G6IVw (26297): 623\n",
      "G5III+... (157910): 362\n",
      "G5Iab: (20123): 384\n",
      "G8V (101501): 13573\n",
      "G8V (75732): 1124\n",
      "G9IV (100030): 1034\n",
      "G9Ib (221861): 281\n",
      "K0IIIa (57669): 172\n",
      "K0IV (191026): 4563\n",
      "K0V (10780): 9220\n",
      "K1: 28601\n",
      "K1III (18322): 307\n",
      "K1IVa (142091): 1599\n",
      "K1V... (25329): 222\n",
      "K2III (115136): 327\n",
      "K3: 30523\n",
      "K3III (101673): 248\n",
      "K3Iab: (4817): 145\n",
      "K3Ib... (17506): 160\n",
      "K3V (32147): 19708\n",
      "K3p (165195): 194\n",
      "K4III (136726): 543\n",
      "K4Iab: (34255): 180\n",
      "K5: 26191\n",
      "K5 (110281): 361\n",
      "K5 (G_19-24): 10409\n",
      "K5III (111335): 189\n",
      "K5III (120933): 15\n",
      "K5Ve (118100): 11880\n",
      "K7: 17887\n",
      "L0: 48\n",
      "L1: 71\n",
      "L2: 93\n",
      "L3: 34\n",
      "L4: 64\n",
      "L5: 137\n",
      "L5.5: 829\n",
      "L9: 843\n",
      "Ldwarf: 4297\n",
      "M0: 12213\n",
      "M0III (168720): 167\n",
      "M0V: 1984\n",
      "M1: 11407\n",
      "M1 (204445): 14392\n",
      "M2: 16360\n",
      "M2III (169305): 55\n",
      "M2Iab: (36389): 149\n",
      "M2V: 605\n",
      "M3: 15241\n",
      "M3III (44478): 5881\n",
      "M4: 10196\n",
      "M4.5:III (123657): 24544\n",
      "M4II (175588): 373\n",
      "M5: 6105\n",
      "M5III (221615): 39969\n",
      "M5Iab: (197812): 11\n",
      "M6: 7955\n",
      "M6III (148783): 7332\n",
      "M7: 2625\n",
      "M7IIIevar (177940): 472\n",
      "M8: 960\n",
      "M8IIIe (84748): 137\n",
      "M9: 672\n",
      "O: 288\n",
      "O8/O9 (167771): 1312\n",
      "O8e (188001): 241\n",
      "O9.5Iae (30614): 44\n",
      "OB: 1006\n",
      "T2: 1574\n",
      "WD: 10045\n",
      "WDcooler: 10901\n",
      "WDhotter: 8250\n",
      "WDmagnetic: 3256\n",
      "sd:F0 (G_84-29): 1743\n",
      "sdF3 (140283): 1384\n"
     ]
    }
   ],
   "source": [
    "for star in unique_stars:\n",
    "    d = df_stars[df_stars.subClass == star]\n",
    "    print(str(star)+ \": \" + str(d.shape[0]))"
   ]
  },
  {
   "cell_type": "markdown",
   "metadata": {},
   "source": [
    "### Apply Star filter"
   ]
  },
  {
   "cell_type": "code",
   "execution_count": 11,
   "metadata": {},
   "outputs": [],
   "source": [
    "\n",
    "subclass = \"A3Iae (223385)\"\n",
    "\n",
    "df = df_stars[df_stars.subClass == subclass][0:5]"
   ]
  },
  {
   "cell_type": "code",
   "execution_count": 12,
   "metadata": {},
   "outputs": [],
   "source": [
    "import webbrowser\n",
    "\n",
    "cds_portal_flag    = 'N'\n",
    "simbad_portal_flag = 'N'\n",
    "sdss_portal_flag   = 'Y'\n",
    "\n",
    "for idx in range(0, df.shape[0]):\n",
    "    xRa = str(df['ra'].iloc[idx])\n",
    "    yDec = str(df['dec'].iloc[idx])\n",
    "            \n",
    "    if cds_portal_flag == 'Y':\n",
    "        cds_portal = 'http://cdsportal.u-strasbg.fr/?target=' + str(xRa) + '%20' + str(yDec)\n",
    "        webbrowser.open(cds_portal) \n",
    "\n",
    "    if simbad_portal_flag == 'Y':\n",
    "        simbad_portal = 'http://simbad.cds.unistra.fr/simbad/sim-coo?Coord=' + str(xRa) + '+' + str(yDec) + \\\n",
    "                    '&CooFrame=FK5&CooEpoch=2000&CooEqui=2000&CooDefinedFrames=none&Radius=2&Radius.unit=arcmin&submit=submit+query'\n",
    "        webbrowser.open(simbad_portal)  \n",
    "\n",
    "    if sdss_portal_flag == 'Y':\n",
    "        sdss_portal = 'http://skyserver.sdss.org/dr17/VisualTools/quickobj?ra=' + str(xRa) + '&dec=' + str(yDec)\n",
    "        webbrowser.open(sdss_portal)   "
   ]
  },
  {
   "cell_type": "code",
   "execution_count": null,
   "metadata": {},
   "outputs": [],
   "source": []
  }
 ],
 "metadata": {
  "kernelspec": {
   "display_name": "Python 3.10.5 ('envMayavi')",
   "language": "python",
   "name": "python3"
  },
  "language_info": {
   "codemirror_mode": {
    "name": "ipython",
    "version": 3
   },
   "file_extension": ".py",
   "mimetype": "text/x-python",
   "name": "python",
   "nbconvert_exporter": "python",
   "pygments_lexer": "ipython3",
   "version": "3.10.5"
  },
  "orig_nbformat": 4,
  "vscode": {
   "interpreter": {
    "hash": "1b4dc7fd6dd855e4b9243df0e9f095f976d2b85af4f1173232e89dcfb254eee2"
   }
  }
 },
 "nbformat": 4,
 "nbformat_minor": 2
}
