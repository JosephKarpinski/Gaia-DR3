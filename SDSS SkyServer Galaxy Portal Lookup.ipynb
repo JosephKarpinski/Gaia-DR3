{
 "cells": [
  {
   "cell_type": "code",
   "execution_count": null,
   "metadata": {},
   "outputs": [],
   "source": []
  },
  {
   "cell_type": "markdown",
   "metadata": {},
   "source": [
    "## Galaxy Queries"
   ]
  },
  {
   "cell_type": "code",
   "execution_count": 1,
   "metadata": {},
   "outputs": [
    {
     "name": "stdout",
     "output_type": "stream",
     "text": [
      "StarForming: 260697\n",
      "StarForming_Broadline: 1521\n",
      "StarBurst: 88742\n",
      "StarBurst_Broadline: 197\n",
      "Broadline: 16727\n",
      "AGN: 24328\n",
      "AGN_Broadline: 3753\n",
      "Blue_Elliptical_Galaxies: 55\n"
     ]
    }
   ],
   "source": [
    "import pandas as pd\n",
    "\n",
    "df_StarForming = pd.read_csv('StarForming_Z_260697.csv')\n",
    "df_StarForming_Broadline = pd.read_csv('STARFORMING_BROADLINE_Z_1521.csv')\n",
    "df_StarBurst = pd.read_csv('StarBurst_Z_88742.csv')\n",
    "df_StarBurst_Broadline = pd.read_csv('STARBURST_BROADLINE_Z_197.csv')\n",
    "df_Broadline = pd.read_csv('BROADLINE_Z_16727.csv')\n",
    "df_AGN = pd.read_csv('AGN_Z_24328.csv')\n",
    "df_AGN_Broadline = pd.read_csv('AGN_BROADLINE_Z_3753.csv')\n",
    "\n",
    "df_Blue_Elliptical_Galaxies = pd.read_csv('Blue Elliptical Galaxies.csv')\n",
    "\n",
    "print(\"StarForming: \" + str(df_StarForming.shape[0]))\n",
    "print(\"StarForming_Broadline: \" + str(df_StarForming_Broadline.shape[0]))\n",
    "print(\"StarBurst: \" + str(df_StarBurst.shape[0]))\n",
    "print(\"StarBurst_Broadline: \" + str(df_StarBurst_Broadline.shape[0]))\n",
    "print(\"Broadline: \" + str(df_Broadline.shape[0]))\n",
    "print(\"AGN: \" + str(df_AGN.shape[0]))\n",
    "print(\"AGN_Broadline: \" + str(df_AGN_Broadline.shape[0]))\n",
    "\n",
    "print(\"Blue_Elliptical_Galaxies: \" + str(df_Blue_Elliptical_Galaxies.shape[0]))"
   ]
  },
  {
   "cell_type": "markdown",
   "metadata": {},
   "source": [
    "### Apply galaxy filter"
   ]
  },
  {
   "cell_type": "code",
   "execution_count": 2,
   "metadata": {},
   "outputs": [],
   "source": [
    "#df = df_StarForming[0:5]\n",
    "#df = df_StarForming_Broadline[0:5]\n",
    "#df = df_StarBurst[0:5]\n",
    "#df = df_StarBurst_Broadline[0:5]\n",
    "#df = df_Broadline[0:5]\n",
    "#df = df_AGN[0:5]\n",
    "#df = df_AGN_Broadline[0:5]\n",
    "\n",
    "df = df_Blue_Elliptical_Galaxies[0:5]"
   ]
  },
  {
   "cell_type": "code",
   "execution_count": 3,
   "metadata": {},
   "outputs": [],
   "source": [
    "import webbrowser\n",
    "\n",
    "cds_portal_flag    = 'N'\n",
    "simbad_portal_flag = 'N'\n",
    "sdss_portal_flag   = 'Y'\n",
    "\n",
    "for idx in range(0, df.shape[0]):\n",
    "    xRa = str(df['ra'].iloc[idx])\n",
    "    yDec = str(df['dec'].iloc[idx])\n",
    "            \n",
    "    if cds_portal_flag == 'Y':\n",
    "        cds_portal = 'http://cdsportal.u-strasbg.fr/?target=' + str(xRa) + '%20' + str(yDec)\n",
    "        webbrowser.open(cds_portal) \n",
    "\n",
    "    if simbad_portal_flag == 'Y':\n",
    "        simbad_portal = 'http://simbad.cds.unistra.fr/simbad/sim-coo?Coord=' + str(xRa) + '+' + str(yDec) + \\\n",
    "                    '&CooFrame=FK5&CooEpoch=2000&CooEqui=2000&CooDefinedFrames=none&Radius=2&Radius.unit=arcmin&submit=submit+query'\n",
    "        webbrowser.open(simbad_portal)  \n",
    "\n",
    "    if sdss_portal_flag == 'Y':\n",
    "        sdss_portal = 'http://skyserver.sdss.org/dr17/VisualTools/quickobj?ra=' + str(xRa) + '&dec=' + str(yDec)\n",
    "        webbrowser.open(sdss_portal)   "
   ]
  },
  {
   "cell_type": "code",
   "execution_count": null,
   "metadata": {},
   "outputs": [],
   "source": []
  }
 ],
 "metadata": {
  "kernelspec": {
   "display_name": "Python 3.10.5 ('envMayavi')",
   "language": "python",
   "name": "python3"
  },
  "language_info": {
   "codemirror_mode": {
    "name": "ipython",
    "version": 3
   },
   "file_extension": ".py",
   "mimetype": "text/x-python",
   "name": "python",
   "nbconvert_exporter": "python",
   "pygments_lexer": "ipython3",
   "version": "3.10.5"
  },
  "orig_nbformat": 4,
  "vscode": {
   "interpreter": {
    "hash": "1b4dc7fd6dd855e4b9243df0e9f095f976d2b85af4f1173232e89dcfb254eee2"
   }
  }
 },
 "nbformat": 4,
 "nbformat_minor": 2
}
