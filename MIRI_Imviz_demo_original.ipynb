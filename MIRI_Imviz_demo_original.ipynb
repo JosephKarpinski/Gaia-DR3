{
 "cells": [
  {
   "cell_type": "markdown",
   "id": "b58d6954",
   "metadata": {},
   "source": [
    "# Imviz Demo #1 \n",
    "\n",
    "### Ring Nebula ERO Release\n",
    "#### Make an Awesome 2 Color Image Using Imviz: https://jdaviz.readthedocs.io/en/latest/\n",
    "#### Watch the video in this repo for more details."
   ]
  },
  {
   "cell_type": "markdown",
   "id": "5b762602",
   "metadata": {},
   "source": [
    "### 1.<font color='white'>-</font>Python imports<a class=\"anchor\" id=\"py_imports\"></a> ###"
   ]
  },
  {
   "cell_type": "markdown",
   "id": "aa89533b-743f-46e4-aec4-4f61933c260c",
   "metadata": {},
   "source": [
    "### Create a new environment and install the requirements file in this repo by using the commands:\n",
    "#### conda create -n ero python=3.9\n",
    "#### conda activate ero\n",
    "#### pip install -r requirements.txt"
   ]
  },
  {
   "cell_type": "code",
   "execution_count": 1,
   "id": "8c50eace",
   "metadata": {},
   "outputs": [],
   "source": [
    "import matplotlib.pyplot as plt\n",
    "import numpy as np\n",
    "from astropy import units as u\n",
    "from astropy.coordinates import SkyCoord, Angle\n",
    "from astropy.table import Table\n",
    "from astropy.utils.data import download_file\n",
    "from photutils import CircularAperture, SkyCircularAperture\n",
    "from regions import PixCoord, CirclePixelRegion, CircleSkyRegion\n",
    "from astropy.io import fits\n",
    "from astropy.wcs import WCS\n",
    "\n",
    "from jdaviz import Imviz\n",
    "from astropy.io import fits\n",
    "\n",
    "import astroquery\n",
    "from astroquery.mast import Mast\n",
    "from astroquery.mast import Observations\n",
    "from astropy.time import Time\n"
   ]
  },
  {
   "cell_type": "markdown",
   "id": "0a84fee2-bab7-422c-8f12-c7daaa1019a1",
   "metadata": {},
   "source": [
    "### 2.<font color='white'>-</font>Download Datas<a class=\"anchor\" id=\"py_imports\"></a> ###\n",
    "### You can skip this step if you've already download the data"
   ]
  },
  {
   "cell_type": "markdown",
   "id": "ea2de768-1179-4964-be2e-1afa90f5a2d5",
   "metadata": {},
   "source": [
    "### Get your MAST Token Here: https://auth.mast.stsci.edu/token"
   ]
  },
  {
   "cell_type": "code",
   "execution_count": 2,
   "id": "dd5e723a-dd26-4609-a9bc-d4d6590ce916",
   "metadata": {},
   "outputs": [
    {
     "name": "stdout",
     "output_type": "stream",
     "text": [
      "eppn: \n",
      "ezid: anonymous\n",
      "anon: True\n",
      "scopes: []\n",
      "session: None\n",
      "token: None\n"
     ]
    }
   ],
   "source": [
    "#Observations.login(token=\"YOUR_TOKEN_NUMBER\")\n",
    "sessioninfo = Observations.session_info()"
   ]
  },
  {
   "cell_type": "code",
   "execution_count": 3,
   "id": "a18ba8d9-897a-49d3-b7f5-1ece21b9ad8c",
   "metadata": {},
   "outputs": [],
   "source": [
    "SERVICES = {\n",
    "            'SI_search': 'Mast.Jwst.Filtered.',\n",
    "            'Caom_search':'Mast.Caom.Filtered',\n",
    "            'Product_search':'Mast.Caom.Products'\n",
    "            }"
   ]
  },
  {
   "cell_type": "code",
   "execution_count": 7,
   "id": "bce8262d-6ff3-4035-8335-8e943e5455dd",
   "metadata": {},
   "outputs": [
    {
     "data": {
      "text/html": [
       "<div><i>Table masked=True length=10</i>\n",
       "<table id=\"table140393826374992\" class=\"table-striped table-bordered table-condensed\">\n",
       "<thead><tr><th>dataproduct_type</th><th>calib_level</th><th>obs_collection</th><th>obs_id</th><th>target_name</th><th>s_ra</th><th>s_dec</th><th>t_min</th><th>t_max</th><th>t_exptime</th><th>wavelength_region</th><th>filters</th><th>em_min</th><th>em_max</th><th>target_classification</th><th>obs_title</th><th>t_obs_release</th><th>instrument_name</th><th>proposal_pi</th><th>proposal_id</th><th>proposal_type</th><th>project</th><th>sequence_number</th><th>provenance_name</th><th>s_region</th><th>jpegURL</th><th>dataURL</th><th>dataRights</th><th>mtFlag</th><th>srcDen</th><th>intentType</th><th>obsid</th><th>objID</th></tr></thead>\n",
       "<thead><tr><th>str5</th><th>int64</th><th>str4</th><th>str36</th><th>str8</th><th>float64</th><th>float64</th><th>float64</th><th>float64</th><th>float64</th><th>str8</th><th>str6</th><th>float64</th><th>float64</th><th>str1</th><th>str32</th><th>float64</th><th>str6</th><th>str21</th><th>str4</th><th>str4</th><th>str4</th><th>int64</th><th>str7</th><th>str1013</th><th>str62</th><th>str63</th><th>str6</th><th>bool</th><th>float64</th><th>str7</th><th>str8</th><th>str9</th></tr></thead>\n",
       "<tr><td>image</td><td>3</td><td>JWST</td><td>jw02733-o002_t001_miri_f1130w</td><td>NGC 3132</td><td>151.7551341666667</td><td>-40.43742777777777</td><td>59742.52554607129</td><td>59742.65142148148</td><td>2708.432</td><td>Infrared</td><td>F1130W</td><td>10950.0</td><td>11650.0</td><td>--</td><td>JWST Early Release Observation 7</td><td>59773.625</td><td>MIRI</td><td>Pontoppidan, Klaus M.</td><td>2733</td><td>JWST</td><td>JWST</td><td>--</td><td>CALJWST</td><td>POLYGON 151.71500187 -40.45128638 151.7156726625677 -40.451639204751039 151.71455931 -40.45286556 151.74838142 -40.47064566 151.74839533388155 -40.4706303781323 151.75242062 -40.47274516 151.76472966998813 -40.459221596530767 151.76487192 -40.45929632 151.78836533 -40.43346644 151.7876603317745 -40.433088794936474 151.78963212 -40.43091982 151.78936242179932 -40.430775350755191 151.79077229 -40.42922439 151.78952551128253 -40.428556519409966 151.79006068 -40.42796778 151.75641104 -40.40993252 151.75360701652775 -40.413025972916564 151.752581 -40.41247574 151.75254430253094 -40.412516222350717 151.7511185 -40.41175156 151.73884245370343 -40.425289995659888 151.73867349 -40.42519937 151.71500187 -40.45128638 151.71500187 -40.45128638</td><td>mast:JWST/product/jw02733-o002_t001_miri_f1130w_i2d.jpg</td><td>mast:JWST/product/jw02733-o002_t001_miri_f1130w_i2d.fits</td><td>PUBLIC</td><td>False</td><td>nan</td><td>science</td><td>87602450</td><td>165448265</td></tr>\n",
       "<tr><td>image</td><td>3</td><td>JWST</td><td>jw02733-o001_t001_nircam_clear-f187n</td><td>NGC 3132</td><td>151.7551341666667</td><td>-40.43742777777777</td><td>59733.70454250509</td><td>59733.73834347222</td><td>9276.576</td><td>Infrared</td><td>F187N</td><td>1863.0</td><td>1884.0</td><td>--</td><td>JWST Early Release Observation 7</td><td>59773.625</td><td>NIRCAM</td><td>Pontoppidan, Klaus M.</td><td>2733</td><td>JWST</td><td>JWST</td><td>--</td><td>CALJWST</td><td>POLYGON 151.7214925 -40.44829033 151.72749245696932 -40.450069783828248 151.72746051 -40.45012969 151.74483621105858 -40.455280634839191 151.74483484 -40.45528325 151.75083670028812 -40.457059254433524 151.75080413 -40.45712139 151.77242081 -40.46351457 151.7747734648392 -40.45895388049729 151.7748355 -40.45897222 151.78273391434993 -40.443656150582818 151.79012906 -40.42995877 151.79009539304346 -40.429948083566295 151.7925415 -40.42541609 151.77131507 -40.41867586 151.77128812908359 -40.418725425550569 151.76534795 -40.41683827 151.76533499201443 -40.416862106329987 151.74841442 -40.41132797 151.74836129994171 -40.411423915386557 151.74244853 -40.40948928 151.73334823 -40.42591945 151.73343406241361 -40.425946476889315 151.73276316725719 -40.4271573944654 151.73275632 -40.42715528 151.73255318431754 -40.427536388835364 151.73093247 -40.43046143 151.73098517224608 -40.430478025154741 151.72390959 -40.44374856 151.72391407805941 -40.443749891183408 151.7214925 -40.44829033 151.7214925 -40.44829033</td><td>mast:JWST/product/jw02733-o001_t001_nircam_clear-f187n_i2d.jpg</td><td>mast:JWST/product/jw02733-o001_t001_nircam_clear-f187n_i2d.fits</td><td>PUBLIC</td><td>False</td><td>nan</td><td>science</td><td>87602522</td><td>165448266</td></tr>\n",
       "<tr><td>image</td><td>3</td><td>JWST</td><td>jw02733-o002_t001_miri_f770w</td><td>NGC 3132</td><td>151.7551341666667</td><td>-40.43742777777777</td><td>59742.50030178889</td><td>59742.62614372685</td><td>2708.432</td><td>Infrared</td><td>F770W</td><td>6600.0</td><td>8800.0</td><td>--</td><td>JWST Early Release Observation 7</td><td>59773.625</td><td>MIRI</td><td>Pontoppidan, Klaus M.</td><td>2733</td><td>JWST</td><td>JWST</td><td>--</td><td>CALJWST</td><td>POLYGON 151.71501706 -40.45130021 151.71568794454546 -40.451653077969681 151.71457459 -40.45287944 151.74839726 -40.47065961 151.74841123146382 -40.470644264991947 151.75243656 -40.47275904 151.76474554769652 -40.4592356141171 151.76488769 -40.45931028 151.78838103 -40.43348064 151.78767544809659 -40.433102678867719 151.78964745 -40.43093347 151.78937828054859 -40.430789283594351 151.79078805 -40.42923844 151.78954124454305 -40.428570549832074 151.79007638 -40.42798185 151.75642624 -40.40994619 151.7536222337292 -40.413039639359013 151.75259625 -40.41248942 151.752559634018 -40.412529812660871 151.75113386 -40.41176516 151.73885774445802 -40.425303750388174 151.73868868 -40.42521307 151.71501706 -40.45130021 151.71501706 -40.45130021</td><td>mast:JWST/product/jw02733-o002_t001_miri_f770w_i2d.jpg</td><td>mast:JWST/product/jw02733-o002_t001_miri_f770w_i2d.fits</td><td>PUBLIC</td><td>False</td><td>nan</td><td>science</td><td>87602452</td><td>165448269</td></tr>\n",
       "<tr><td>image</td><td>3</td><td>JWST</td><td>jw02733-o001_t001_nircam_clear-f090w</td><td>NGC 3132</td><td>151.7551341666667</td><td>-40.43742777777777</td><td>59733.74120144838</td><td>59733.76518565972</td><td>5840.8</td><td>Infrared</td><td>F090W</td><td>795.0</td><td>1004.9999999999999</td><td>--</td><td>JWST Early Release Observation 7</td><td>59773.625</td><td>NIRCAM</td><td>Pontoppidan, Klaus M.</td><td>2733</td><td>JWST</td><td>JWST</td><td>--</td><td>CALJWST</td><td>POLYGON 151.72149296 -40.44828908 151.72749311085832 -40.450068384125842 151.72746112 -40.45012838 151.7448357095212 -40.455278387526725 151.74483413 -40.4552814 151.75083601011377 -40.457057589162737 151.75080357 -40.45711947 151.77241699 -40.46351234 151.77477004165385 -40.458951595261276 151.77483148 -40.45896976 151.78271504005517 -40.44368477663749 151.79012429 -40.42995839 151.79009069190241 -40.429947727227706 151.79253642 -40.42541545 151.77131211 -40.41867709 151.77128525246528 -40.418726514926419 151.76534553 -40.41683982 151.76533264456566 -40.416863528768864 151.748414 -40.41132927 151.74836070457044 -40.411425501879251 151.7424487 -40.40949083 151.7333474 -40.42591744 151.73343360560963 -40.425944588170061 151.73276101417048 -40.427158176371506 151.73275484 -40.42715627 151.73257378655123 -40.427495991438846 151.73093128 -40.43045941 151.73098529193408 -40.43047641985919 151.72391038 -40.44374732 151.72391431830943 -40.443748487991307 151.72149296 -40.44828908 151.72149296 -40.44828908</td><td>mast:JWST/product/jw02733-o001_t001_nircam_clear-f090w_i2d.jpg</td><td>mast:JWST/product/jw02733-o001_t001_nircam_clear-f090w_i2d.fits</td><td>PUBLIC</td><td>False</td><td>nan</td><td>science</td><td>87602454</td><td>165448272</td></tr>\n",
       "<tr><td>image</td><td>3</td><td>JWST</td><td>jw02733-o002_t001_miri_f1800w</td><td>NGC 3132</td><td>151.7551341666667</td><td>-40.43742777777777</td><td>59742.57449639537</td><td>59742.70066068287</td><td>2708.432</td><td>Infrared</td><td>F1800W</td><td>16500.0</td><td>19500.0</td><td>--</td><td>JWST Early Release Observation 7</td><td>59773.625</td><td>MIRI</td><td>Pontoppidan, Klaus M.</td><td>2733</td><td>JWST</td><td>JWST</td><td>--</td><td>CALJWST</td><td>POLYGON 151.71500294 -40.45127799 151.7156738709302 -40.451630888216009 151.71456055 -40.4528572 151.74838266 -40.47063735 151.74839657852903 -40.470622062867221 151.75242188 -40.47273686 151.76473078031415 -40.45921333539404 151.76487307 -40.45928808 151.78836639 -40.43345808 151.7876613535623 -40.433080413963282 151.78963323 -40.43091132 151.78936373852443 -40.430766961502584 151.79077355 -40.42921605 151.78952653615806 -40.428548051996522 151.79006172 -40.42795929 151.75641232 -40.40992416 151.75360827153824 -40.413017618746395 151.7525823 -40.41246741 151.75254562668667 -40.412507865452291 151.75111995 -40.41174327 151.73884379654825 -40.425281722969274 151.73867467 -40.42519101 151.71500294 -40.45127799 151.71500294 -40.45127799</td><td>mast:JWST/product/jw02733-o002_t001_miri_f1800w_i2d.jpg</td><td>mast:JWST/product/jw02733-o002_t001_miri_f1800w_i2d.fits</td><td>PUBLIC</td><td>False</td><td>nan</td><td>science</td><td>87602456</td><td>165448274</td></tr>\n",
       "<tr><td>image</td><td>3</td><td>JWST</td><td>jw02733-o001_t001_nircam_clear-f356w</td><td>NGC 3132</td><td>151.7551341666667</td><td>-40.43742777777777</td><td>59733.74120218912</td><td>59733.76518640047</td><td>1460.2</td><td>Infrared</td><td>F356W</td><td>3140.0</td><td>3980.0</td><td>--</td><td>JWST Early Release Observation 7</td><td>59773.625</td><td>NIRCAM</td><td>Pontoppidan, Klaus M.</td><td>2733</td><td>JWST</td><td>JWST</td><td>--</td><td>CALJWST</td><td>POLYGON 151.72221387 -40.44785873 151.72821124057495 -40.449643872635868 151.72818201 -40.449698 151.7724845 -40.46287223 151.77488448162339 -40.458325348212021 151.77489896 -40.45832965 151.79225454 -40.42542892 151.74872963 -40.41156017 151.74870013937897 -40.411614845826506 151.7427643 -40.40972175 151.72463122 -40.44331696 151.72466188317478 -40.443326087902143 151.72221387 -40.44785873 151.72221387 -40.44785873</td><td>mast:JWST/product/jw02733-o001_t001_nircam_clear-f356w_i2d.jpg</td><td>mast:JWST/product/jw02733-o001_t001_nircam_clear-f356w_i2d.fits</td><td>PUBLIC</td><td>False</td><td>nan</td><td>science</td><td>87602457</td><td>165448276</td></tr>\n",
       "<tr><td>image</td><td>3</td><td>JWST</td><td>jw02733-o001_t001_nircam_clear-f212n</td><td>NGC 3132</td><td>151.7551341666667</td><td>-40.43742777777777</td><td>59733.66775883611</td><td>59733.70168424769</td><td>9276.576</td><td>Infrared</td><td>F212N</td><td>2109.0</td><td>2134.0</td><td>--</td><td>JWST Early Release Observation 7</td><td>59773.625</td><td>NIRCAM</td><td>Pontoppidan, Klaus M.</td><td>2733</td><td>JWST</td><td>JWST</td><td>--</td><td>CALJWST</td><td>POLYGON 151.72149344 -40.44829088 151.72749356084904 -40.450070377769578 151.7274616 -40.45013031 151.74483711853713 -40.455281207783464 151.74483577 -40.45528378 151.75083778745605 -40.457059822604378 151.75080519 -40.45712201 151.77242187 -40.46351519 151.77477455114715 -40.458954438609261 151.77483639 -40.45897272 151.78272945332728 -40.443666974654647 151.7901301 -40.4299594 151.79009620437591 -40.429948640994645 151.79254233 -40.4254166 151.7713159 -40.41867639 151.77128888224408 -40.4187260970879 151.76534889 -40.416839 151.7653360041235 -40.416862703655674 151.74841526 -40.41132854 151.74836208499696 -40.411424584827245 151.7424495 -40.40949001 151.73334919 -40.42592017 151.73343488777175 -40.425947154518489 151.7327640005978 -40.427158062267488 151.73275729 -40.42715599 151.73255818563109 -40.427529535389738 151.73093337 -40.43046199 151.73098619976474 -40.430478625250451 151.72391056 -40.44374926 151.72391494599714 -40.443750560913223 151.72149344 -40.44829088 151.72149344 -40.44829088</td><td>mast:JWST/product/jw02733-o001_t001_nircam_clear-f212n_i2d.jpg</td><td>mast:JWST/product/jw02733-o001_t001_nircam_clear-f212n_i2d.fits</td><td>PUBLIC</td><td>False</td><td>nan</td><td>science</td><td>87602523</td><td>165448278</td></tr>\n",
       "<tr><td>image</td><td>3</td><td>JWST</td><td>jw02733-o001_t001_nircam_f405n-f444w</td><td>NGC 3132</td><td>151.7551341666667</td><td>-40.43742777777777</td><td>59733.66775883611</td><td>59733.70168424769</td><td>2319.144</td><td>Infrared</td><td>F444W</td><td>3880.0</td><td>4986.0</td><td>--</td><td>JWST Early Release Observation 7</td><td>59773.625</td><td>NIRCAM</td><td>Pontoppidan, Klaus M.</td><td>2733</td><td>JWST</td><td>JWST</td><td>--</td><td>CALJWST</td><td>POLYGON 151.72220414 -40.44785896 151.72820154797759 -40.449644187765195 151.72817229 -40.44969836 151.77247668 -40.46287375 151.77487664485332 -40.458326951137991 151.77489118 -40.45833127 151.79224731 -40.42543003 151.74872208 -40.41156049 151.74869252242527 -40.4116152837621 151.74275629 -40.40972198 151.7246212 -40.44331733 151.7246522714899 -40.44332657984279 151.72220414 -40.44785896 151.72220414 -40.44785896</td><td>mast:JWST/product/jw02733-o001_t001_nircam_f405n-f444w_i2d.jpg</td><td>mast:JWST/product/jw02733-o001_t001_nircam_f405n-f444w_i2d.fits</td><td>PUBLIC</td><td>False</td><td>nan</td><td>science</td><td>87602459</td><td>165448282</td></tr>\n",
       "<tr><td>image</td><td>3</td><td>JWST</td><td>jw02733-o002_t001_miri_f1280w</td><td>NGC 3132</td><td>151.7551341666667</td><td>-40.43742777777777</td><td>59742.54989271481</td><td>59742.67596070602</td><td>2708.432</td><td>Infrared</td><td>F1280W</td><td>11600.0</td><td>14000.0</td><td>--</td><td>JWST Early Release Observation 7</td><td>59773.625</td><td>MIRI</td><td>Pontoppidan, Klaus M.</td><td>2733</td><td>JWST</td><td>JWST</td><td>--</td><td>CALJWST</td><td>POLYGON 151.71499326 -40.4512903 151.7156642615233 -40.451643235478024 151.71455087 -40.45286964 151.7483727 -40.47064968 151.74838668341653 -40.470634321920713 151.75241189 -40.47274907 151.76472098675134 -40.459225584925157 151.76486303 -40.4593002 151.78835661 -40.43347038 151.78765162644905 -40.433092744742439 151.78962354 -40.43092365 151.78935395940857 -40.430779244499107 151.79076379 -40.42922834 151.78951705456592 -40.428560495666126 151.79005218 -40.42797181 151.75640248 -40.40993658 151.75359854128857 -40.413029955462036 151.75257227 -40.41247959 151.75253554307537 -40.412520105171247 151.75110967 -40.41175541 151.73883365800495 -40.4252939274236 151.73866469 -40.4252033 151.71499326 -40.4512903 151.71499326 -40.4512903</td><td>mast:JWST/product/jw02733-o002_t001_miri_f1280w_i2d.jpg</td><td>mast:JWST/product/jw02733-o002_t001_miri_f1280w_i2d.fits</td><td>PUBLIC</td><td>False</td><td>nan</td><td>science</td><td>87602461</td><td>165448284</td></tr>\n",
       "<tr><td>image</td><td>3</td><td>JWST</td><td>jw02733-o001_t001_nircam_f444w-f470n</td><td>NGC 3132</td><td>151.7551341666667</td><td>-40.43742777777777</td><td>59733.70454250509</td><td>59733.73834421296</td><td>2319.144</td><td>Infrared</td><td>F444W</td><td>3880.0</td><td>4986.0</td><td>--</td><td>JWST Early Release Observation 7</td><td>59773.625</td><td>NIRCAM</td><td>Pontoppidan, Klaus M.</td><td>2733</td><td>JWST</td><td>JWST</td><td>--</td><td>CALJWST</td><td>POLYGON 151.7221908 -40.44789434 151.72818808878742 -40.449679410099485 151.72815879 -40.44973366 151.77246417 -40.46290839 151.77486392884575 -40.458361602690012 151.77487883 -40.45836603 151.79223387 -40.42546422 151.74870828 -40.41159555 151.74867884872128 -40.411650111629136 151.74274237 -40.40975687 151.72460783 -40.44335256 151.72463892092054 -40.4433618149431 151.7221908 -40.44789434 151.7221908 -40.44789434</td><td>mast:JWST/product/jw02733-o001_t001_nircam_f444w-f470n_i2d.jpg</td><td>mast:JWST/product/jw02733-o001_t001_nircam_f444w-f470n_i2d.fits</td><td>PUBLIC</td><td>False</td><td>nan</td><td>science</td><td>87602464</td><td>165448285</td></tr>\n",
       "</table></div>"
      ],
      "text/plain": [
       "<Table masked=True length=10>\n",
       "dataproduct_type calib_level obs_collection                obs_id                ...  srcDen intentType  obsid     objID  \n",
       "      str5          int64         str4                     str36                 ... float64    str7      str8      str9  \n",
       "---------------- ----------- -------------- ------------------------------------ ... ------- ---------- -------- ---------\n",
       "           image           3           JWST        jw02733-o002_t001_miri_f1130w ...     nan    science 87602450 165448265\n",
       "           image           3           JWST jw02733-o001_t001_nircam_clear-f187n ...     nan    science 87602522 165448266\n",
       "           image           3           JWST         jw02733-o002_t001_miri_f770w ...     nan    science 87602452 165448269\n",
       "           image           3           JWST jw02733-o001_t001_nircam_clear-f090w ...     nan    science 87602454 165448272\n",
       "           image           3           JWST        jw02733-o002_t001_miri_f1800w ...     nan    science 87602456 165448274\n",
       "           image           3           JWST jw02733-o001_t001_nircam_clear-f356w ...     nan    science 87602457 165448276\n",
       "           image           3           JWST jw02733-o001_t001_nircam_clear-f212n ...     nan    science 87602523 165448278\n",
       "           image           3           JWST jw02733-o001_t001_nircam_f405n-f444w ...     nan    science 87602459 165448282\n",
       "           image           3           JWST        jw02733-o002_t001_miri_f1280w ...     nan    science 87602461 165448284\n",
       "           image           3           JWST jw02733-o001_t001_nircam_f444w-f470n ...     nan    science 87602464 165448285"
      ]
     },
     "execution_count": 7,
     "metadata": {},
     "output_type": "execute_result"
    }
   ],
   "source": [
    "obs = Observations.query_criteria(\n",
    "        obs_collection = 'JWST',\n",
    "        instrument_name = ['NIRCAM', 'MIRI'],\n",
    "        proposal_id = '02733',\n",
    "        productType=[\"SCIENCE\"],\n",
    "        calib_level = '3'\n",
    "    )\n",
    "obs"
   ]
  },
  {
   "cell_type": "code",
   "execution_count": null,
   "id": "58eb92b5-e79b-4e98-a594-2269430ab31c",
   "metadata": {},
   "outputs": [
    {
     "name": "stdout",
     "output_type": "stream",
     "text": [
      "Downloading URL https://mast.stsci.edu/api/v0.1/Download/file?uri=mast:JWST/product/jw02733-o001_t001_nircam_clear-f090w_segm.fits to ./mastDownload/JWST/jw02733-o001_t001_nircam_clear-f090w/jw02733-o001_t001_nircam_clear-f090w_segm.fits ... [Done]\n",
      "Downloading URL https://mast.stsci.edu/api/v0.1/Download/file?uri=mast:JWST/product/jw02733-o001_20220712t201523_image3_001_asn.json to ./mastDownload/JWST/jw02733-o001_t001_nircam_clear-f090w/jw02733-o001_20220712t201523_image3_001_asn.json ... [Done]\n",
      "Downloading URL https://mast.stsci.edu/api/v0.1/Download/file?uri=mast:JWST/product/jw02733_20220712t201523_pool.csv to ./mastDownload/JWST/jw02733-o001_t001_nircam_clear-f090w/jw02733_20220712t201523_pool.csv ... [Done]\n",
      "Downloading URL https://mast.stsci.edu/api/v0.1/Download/file?uri=mast:JWST/product/jw02733-o001_t001_nircam_clear-f090w_i2d.jpg to ./mastDownload/JWST/jw02733-o001_t001_nircam_clear-f090w/jw02733-o001_t001_nircam_clear-f090w_i2d.jpg ... [Done]\n",
      "Downloading URL https://mast.stsci.edu/api/v0.1/Download/file?uri=mast:JWST/product/jw02733-o001_t001_nircam_clear-f090w_cat.ecsv to ./mastDownload/JWST/jw02733-o001_t001_nircam_clear-f090w/jw02733-o001_t001_nircam_clear-f090w_cat.ecsv ... [Done]\n",
      "Downloading URL https://mast.stsci.edu/api/v0.1/Download/file?uri=mast:JWST/product/jw02733-o001_t001_nircam_clear-f090w_i2d.fits to ./mastDownload/JWST/jw02733-o001_t001_nircam_clear-f090w/jw02733-o001_t001_nircam_clear-f090w_i2d.fits ... [Done]\n",
      "Downloading URL https://mast.stsci.edu/api/v0.1/Download/file?uri=mast:JWST/product/jw02733-o001_t001_nircam_clear-f187n_segm.fits to ./mastDownload/JWST/jw02733-o001_t001_nircam_clear-f187n/jw02733-o001_t001_nircam_clear-f187n_segm.fits ... [Done]\n",
      "Downloading URL https://mast.stsci.edu/api/v0.1/Download/file?uri=mast:JWST/product/jw02733-o001_20220712t201523_image3_004_asn.json to ./mastDownload/JWST/jw02733-o001_t001_nircam_clear-f187n/jw02733-o001_20220712t201523_image3_004_asn.json ... [Done]\n",
      "Downloading URL https://mast.stsci.edu/api/v0.1/Download/file?uri=mast:JWST/product/jw02733_20220712t201523_pool.csv to ./mastDownload/JWST/jw02733-o001_t001_nircam_clear-f187n/jw02733_20220712t201523_pool.csv ... [Done]\n",
      "Downloading URL https://mast.stsci.edu/api/v0.1/Download/file?uri=mast:JWST/product/jw02733-o001_t001_nircam_clear-f187n_i2d.jpg to ./mastDownload/JWST/jw02733-o001_t001_nircam_clear-f187n/jw02733-o001_t001_nircam_clear-f187n_i2d.jpg ... [Done]\n",
      "Downloading URL https://mast.stsci.edu/api/v0.1/Download/file?uri=mast:JWST/product/jw02733-o001_t001_nircam_clear-f187n_cat.ecsv to ./mastDownload/JWST/jw02733-o001_t001_nircam_clear-f187n/jw02733-o001_t001_nircam_clear-f187n_cat.ecsv ... [Done]\n",
      "Downloading URL https://mast.stsci.edu/api/v0.1/Download/file?uri=mast:JWST/product/jw02733-o001_t001_nircam_clear-f187n_i2d.fits to ./mastDownload/JWST/jw02733-o001_t001_nircam_clear-f187n/jw02733-o001_t001_nircam_clear-f187n_i2d.fits ... [Done]\n",
      "Downloading URL https://mast.stsci.edu/api/v0.1/Download/file?uri=mast:JWST/product/jw02733-o001_t001_nircam_clear-f212n_segm.fits to ./mastDownload/JWST/jw02733-o001_t001_nircam_clear-f212n/jw02733-o001_t001_nircam_clear-f212n_segm.fits ... [Done]\n",
      "Downloading URL https://mast.stsci.edu/api/v0.1/Download/file?uri=mast:JWST/product/jw02733-o001_20220712t201523_image3_006_asn.json to ./mastDownload/JWST/jw02733-o001_t001_nircam_clear-f212n/jw02733-o001_20220712t201523_image3_006_asn.json ... [Done]\n",
      "Downloading URL https://mast.stsci.edu/api/v0.1/Download/file?uri=mast:JWST/product/jw02733_20220712t201523_pool.csv to ./mastDownload/JWST/jw02733-o001_t001_nircam_clear-f212n/jw02733_20220712t201523_pool.csv ... [Done]\n",
      "Downloading URL https://mast.stsci.edu/api/v0.1/Download/file?uri=mast:JWST/product/jw02733-o001_t001_nircam_clear-f212n_i2d.jpg to ./mastDownload/JWST/jw02733-o001_t001_nircam_clear-f212n/jw02733-o001_t001_nircam_clear-f212n_i2d.jpg ... [Done]\n",
      "Downloading URL https://mast.stsci.edu/api/v0.1/Download/file?uri=mast:JWST/product/jw02733-o001_t001_nircam_clear-f212n_cat.ecsv to ./mastDownload/JWST/jw02733-o001_t001_nircam_clear-f212n/jw02733-o001_t001_nircam_clear-f212n_cat.ecsv ... [Done]\n",
      "Downloading URL https://mast.stsci.edu/api/v0.1/Download/file?uri=mast:JWST/product/jw02733-o001_t001_nircam_clear-f212n_i2d.fits to ./mastDownload/JWST/jw02733-o001_t001_nircam_clear-f212n/jw02733-o001_t001_nircam_clear-f212n_i2d.fits ... [Done]\n",
      "Downloading URL https://mast.stsci.edu/api/v0.1/Download/file?uri=mast:JWST/product/jw02733-o001_t001_nircam_clear-f356w_segm.fits to ./mastDownload/JWST/jw02733-o001_t001_nircam_clear-f356w/jw02733-o001_t001_nircam_clear-f356w_segm.fits ... [Done]\n",
      "Downloading URL https://mast.stsci.edu/api/v0.1/Download/file?uri=mast:JWST/product/jw02733-o001_20220712t201523_image3_002_asn.json to ./mastDownload/JWST/jw02733-o001_t001_nircam_clear-f356w/jw02733-o001_20220712t201523_image3_002_asn.json ... [Done]\n",
      "Downloading URL https://mast.stsci.edu/api/v0.1/Download/file?uri=mast:JWST/product/jw02733_20220712t201523_pool.csv to ./mastDownload/JWST/jw02733-o001_t001_nircam_clear-f356w/jw02733_20220712t201523_pool.csv ... [Done]\n",
      "Downloading URL https://mast.stsci.edu/api/v0.1/Download/file?uri=mast:JWST/product/jw02733-o001_t001_nircam_clear-f356w_i2d.jpg to ./mastDownload/JWST/jw02733-o001_t001_nircam_clear-f356w/jw02733-o001_t001_nircam_clear-f356w_i2d.jpg ... [Done]\n",
      "Downloading URL https://mast.stsci.edu/api/v0.1/Download/file?uri=mast:JWST/product/jw02733-o001_t001_nircam_clear-f356w_cat.ecsv to ./mastDownload/JWST/jw02733-o001_t001_nircam_clear-f356w/jw02733-o001_t001_nircam_clear-f356w_cat.ecsv ... [Done]\n",
      "Downloading URL https://mast.stsci.edu/api/v0.1/Download/file?uri=mast:JWST/product/jw02733-o001_t001_nircam_clear-f356w_i2d.fits to ./mastDownload/JWST/jw02733-o001_t001_nircam_clear-f356w/jw02733-o001_t001_nircam_clear-f356w_i2d.fits ... [Done]\n",
      "Downloading URL https://mast.stsci.edu/api/v0.1/Download/file?uri=mast:JWST/product/jw02733-o001_t001_nircam_f405n-f444w_segm.fits to ./mastDownload/JWST/jw02733-o001_t001_nircam_f405n-f444w/jw02733-o001_t001_nircam_f405n-f444w_segm.fits ... [Done]\n",
      "Downloading URL https://mast.stsci.edu/api/v0.1/Download/file?uri=mast:JWST/product/jw02733-o001_20220712t201523_image3_005_asn.json to ./mastDownload/JWST/jw02733-o001_t001_nircam_f405n-f444w/jw02733-o001_20220712t201523_image3_005_asn.json ... [Done]\n",
      "Downloading URL https://mast.stsci.edu/api/v0.1/Download/file?uri=mast:JWST/product/jw02733_20220712t201523_pool.csv to ./mastDownload/JWST/jw02733-o001_t001_nircam_f405n-f444w/jw02733_20220712t201523_pool.csv ... [Done]\n",
      "Downloading URL https://mast.stsci.edu/api/v0.1/Download/file?uri=mast:JWST/product/jw02733-o001_t001_nircam_f405n-f444w_i2d.jpg to ./mastDownload/JWST/jw02733-o001_t001_nircam_f405n-f444w/jw02733-o001_t001_nircam_f405n-f444w_i2d.jpg ... [Done]\n",
      "Downloading URL https://mast.stsci.edu/api/v0.1/Download/file?uri=mast:JWST/product/jw02733-o001_t001_nircam_f405n-f444w_cat.ecsv to ./mastDownload/JWST/jw02733-o001_t001_nircam_f405n-f444w/jw02733-o001_t001_nircam_f405n-f444w_cat.ecsv ... [Done]\n",
      "Downloading URL https://mast.stsci.edu/api/v0.1/Download/file?uri=mast:JWST/product/jw02733-o001_t001_nircam_f405n-f444w_i2d.fits to ./mastDownload/JWST/jw02733-o001_t001_nircam_f405n-f444w/jw02733-o001_t001_nircam_f405n-f444w_i2d.fits ... [Done]\n",
      "Downloading URL https://mast.stsci.edu/api/v0.1/Download/file?uri=mast:JWST/product/jw02733-o001_t001_nircam_f444w-f470n_segm.fits to ./mastDownload/JWST/jw02733-o001_t001_nircam_f444w-f470n/jw02733-o001_t001_nircam_f444w-f470n_segm.fits ... [Done]\n",
      "Downloading URL https://mast.stsci.edu/api/v0.1/Download/file?uri=mast:JWST/product/jw02733-o001_20220712t201523_image3_003_asn.json to ./mastDownload/JWST/jw02733-o001_t001_nircam_f444w-f470n/jw02733-o001_20220712t201523_image3_003_asn.json ... [Done]\n",
      "Downloading URL https://mast.stsci.edu/api/v0.1/Download/file?uri=mast:JWST/product/jw02733_20220712t201523_pool.csv to ./mastDownload/JWST/jw02733-o001_t001_nircam_f444w-f470n/jw02733_20220712t201523_pool.csv ... [Done]\n",
      "Downloading URL https://mast.stsci.edu/api/v0.1/Download/file?uri=mast:JWST/product/jw02733-o001_t001_nircam_f444w-f470n_i2d.jpg to ./mastDownload/JWST/jw02733-o001_t001_nircam_f444w-f470n/jw02733-o001_t001_nircam_f444w-f470n_i2d.jpg ... [Done]\n",
      "Downloading URL https://mast.stsci.edu/api/v0.1/Download/file?uri=mast:JWST/product/jw02733-o001_t001_nircam_f444w-f470n_cat.ecsv to ./mastDownload/JWST/jw02733-o001_t001_nircam_f444w-f470n/jw02733-o001_t001_nircam_f444w-f470n_cat.ecsv ... [Done]\n",
      "Downloading URL https://mast.stsci.edu/api/v0.1/Download/file?uri=mast:JWST/product/jw02733-o001_t001_nircam_f444w-f470n_i2d.fits to ./mastDownload/JWST/jw02733-o001_t001_nircam_f444w-f470n/jw02733-o001_t001_nircam_f444w-f470n_i2d.fits ... [Done]\n",
      "Downloading URL https://mast.stsci.edu/api/v0.1/Download/file?uri=mast:JWST/product/jw02733-o002_t001_miri_f1130w_segm.fits to ./mastDownload/JWST/jw02733-o002_t001_miri_f1130w/jw02733-o002_t001_miri_f1130w_segm.fits ... [Done]\n",
      "Downloading URL https://mast.stsci.edu/api/v0.1/Download/file?uri=mast:JWST/product/jw02733-o002_20220712t201523_image3_003_asn.json to ./mastDownload/JWST/jw02733-o002_t001_miri_f1130w/jw02733-o002_20220712t201523_image3_003_asn.json ... [Done]\n",
      "Downloading URL https://mast.stsci.edu/api/v0.1/Download/file?uri=mast:JWST/product/jw02733_20220712t201523_pool.csv to ./mastDownload/JWST/jw02733-o002_t001_miri_f1130w/jw02733_20220712t201523_pool.csv ... [Done]\n",
      "Downloading URL https://mast.stsci.edu/api/v0.1/Download/file?uri=mast:JWST/product/jw02733-o002_t001_miri_f1130w_i2d.jpg to ./mastDownload/JWST/jw02733-o002_t001_miri_f1130w/jw02733-o002_t001_miri_f1130w_i2d.jpg ... [Done]\n",
      "Downloading URL https://mast.stsci.edu/api/v0.1/Download/file?uri=mast:JWST/product/jw02733-o002_t001_miri_f1130w_cat.ecsv to ./mastDownload/JWST/jw02733-o002_t001_miri_f1130w/jw02733-o002_t001_miri_f1130w_cat.ecsv ... [Done]\n",
      "Downloading URL https://mast.stsci.edu/api/v0.1/Download/file?uri=mast:JWST/product/jw02733-o002_t001_miri_f1130w_i2d.fits to ./mastDownload/JWST/jw02733-o002_t001_miri_f1130w/jw02733-o002_t001_miri_f1130w_i2d.fits ... [Done]\n",
      "Downloading URL https://mast.stsci.edu/api/v0.1/Download/file?uri=mast:JWST/product/jw02733-o002_t001_miri_f1280w_segm.fits to ./mastDownload/JWST/jw02733-o002_t001_miri_f1280w/jw02733-o002_t001_miri_f1280w_segm.fits ... [Done]\n",
      "Downloading URL https://mast.stsci.edu/api/v0.1/Download/file?uri=mast:JWST/product/jw02733-o002_20220712t201523_image3_002_asn.json to ./mastDownload/JWST/jw02733-o002_t001_miri_f1280w/jw02733-o002_20220712t201523_image3_002_asn.json ... [Done]\n",
      "Downloading URL https://mast.stsci.edu/api/v0.1/Download/file?uri=mast:JWST/product/jw02733_20220712t201523_pool.csv to ./mastDownload/JWST/jw02733-o002_t001_miri_f1280w/jw02733_20220712t201523_pool.csv ... [Done]\n",
      "Downloading URL https://mast.stsci.edu/api/v0.1/Download/file?uri=mast:JWST/product/jw02733-o002_t001_miri_f1280w_i2d.jpg to ./mastDownload/JWST/jw02733-o002_t001_miri_f1280w/jw02733-o002_t001_miri_f1280w_i2d.jpg ... [Done]\n",
      "Downloading URL https://mast.stsci.edu/api/v0.1/Download/file?uri=mast:JWST/product/jw02733-o002_t001_miri_f1280w_cat.ecsv to ./mastDownload/JWST/jw02733-o002_t001_miri_f1280w/jw02733-o002_t001_miri_f1280w_cat.ecsv ... [Done]\n",
      "Downloading URL https://mast.stsci.edu/api/v0.1/Download/file?uri=mast:JWST/product/jw02733-o002_t001_miri_f1280w_i2d.fits to ./mastDownload/JWST/jw02733-o002_t001_miri_f1280w/jw02733-o002_t001_miri_f1280w_i2d.fits ... [Done]\n",
      "Downloading URL https://mast.stsci.edu/api/v0.1/Download/file?uri=mast:JWST/product/jw02733-o002_t001_miri_f1800w_segm.fits to ./mastDownload/JWST/jw02733-o002_t001_miri_f1800w/jw02733-o002_t001_miri_f1800w_segm.fits ... [Done]\n",
      "Downloading URL https://mast.stsci.edu/api/v0.1/Download/file?uri=mast:JWST/product/jw02733-o002_20220712t201523_image3_001_asn.json to ./mastDownload/JWST/jw02733-o002_t001_miri_f1800w/jw02733-o002_20220712t201523_image3_001_asn.json ... [Done]\n",
      "Downloading URL https://mast.stsci.edu/api/v0.1/Download/file?uri=mast:JWST/product/jw02733_20220712t201523_pool.csv to ./mastDownload/JWST/jw02733-o002_t001_miri_f1800w/jw02733_20220712t201523_pool.csv ... [Done]\n",
      "Downloading URL https://mast.stsci.edu/api/v0.1/Download/file?uri=mast:JWST/product/jw02733-o002_t001_miri_f1800w_i2d.jpg to ./mastDownload/JWST/jw02733-o002_t001_miri_f1800w/jw02733-o002_t001_miri_f1800w_i2d.jpg ... [Done]\n",
      "Downloading URL https://mast.stsci.edu/api/v0.1/Download/file?uri=mast:JWST/product/jw02733-o002_t001_miri_f1800w_cat.ecsv to ./mastDownload/JWST/jw02733-o002_t001_miri_f1800w/jw02733-o002_t001_miri_f1800w_cat.ecsv ... [Done]\n",
      "Downloading URL https://mast.stsci.edu/api/v0.1/Download/file?uri=mast:JWST/product/jw02733-o002_t001_miri_f1800w_i2d.fits to ./mastDownload/JWST/jw02733-o002_t001_miri_f1800w/jw02733-o002_t001_miri_f1800w_i2d.fits ... [Done]\n",
      "Downloading URL https://mast.stsci.edu/api/v0.1/Download/file?uri=mast:JWST/product/jw02733-o002_t001_miri_f770w_segm.fits to ./mastDownload/JWST/jw02733-o002_t001_miri_f770w/jw02733-o002_t001_miri_f770w_segm.fits ... [Done]\n",
      "Downloading URL https://mast.stsci.edu/api/v0.1/Download/file?uri=mast:JWST/product/jw02733-o002_20220712t201523_image3_004_asn.json to ./mastDownload/JWST/jw02733-o002_t001_miri_f770w/jw02733-o002_20220712t201523_image3_004_asn.json ... [Done]\n",
      "Downloading URL https://mast.stsci.edu/api/v0.1/Download/file?uri=mast:JWST/product/jw02733_20220712t201523_pool.csv to ./mastDownload/JWST/jw02733-o002_t001_miri_f770w/jw02733_20220712t201523_pool.csv ... [Done]\n",
      "Downloading URL https://mast.stsci.edu/api/v0.1/Download/file?uri=mast:JWST/product/jw02733-o002_t001_miri_f770w_i2d.jpg to ./mastDownload/JWST/jw02733-o002_t001_miri_f770w/jw02733-o002_t001_miri_f770w_i2d.jpg ... [Done]\n",
      "Downloading URL https://mast.stsci.edu/api/v0.1/Download/file?uri=mast:JWST/product/jw02733-o002_t001_miri_f770w_cat.ecsv to ./mastDownload/JWST/jw02733-o002_t001_miri_f770w/jw02733-o002_t001_miri_f770w_cat.ecsv ... [Done]\n",
      "Downloading URL https://mast.stsci.edu/api/v0.1/Download/file?uri=mast:JWST/product/jw02733-o002_t001_miri_f770w_i2d.fits to ./mastDownload/JWST/jw02733-o002_t001_miri_f770w/jw02733-o002_t001_miri_f770w_i2d.fits ... [Done]\n",
      "Downloading URL https://mast.stsci.edu/api/v0.1/Download/file?uri=mast:JWST/product/jw02733001001_gs-acq1_2022154155702_stream.fits to ./mastDownload/JWST/jw02733001001_02101_00001_nrcb1/jw02733001001_gs-acq1_2022154155702_stream.fits ... [Done]\n",
      "Downloading URL https://mast.stsci.edu/api/v0.1/Download/file?uri=mast:JWST/product/jw02733001001_gs-acq1_2022154155702_uncal.fits to ./mastDownload/JWST/jw02733001001_02101_00001_nrcb1/jw02733001001_gs-acq1_2022154155702_uncal.fits ... [Done]\n",
      "Downloading URL https://mast.stsci.edu/api/v0.1/Download/file?uri=mast:JWST/product/jw02733001001_gs-acq1_2022154155748_stream.fits to ./mastDownload/JWST/jw02733001001_02101_00001_nrcb1/jw02733001001_gs-acq1_2022154155748_stream.fits ... [Done]\n",
      "Downloading URL https://mast.stsci.edu/api/v0.1/Download/file?uri=mast:JWST/product/jw02733001001_gs-acq1_2022154155748_uncal.fits to ./mastDownload/JWST/jw02733001001_02101_00001_nrcb1/jw02733001001_gs-acq1_2022154155748_uncal.fits ... [Done]\n",
      "Downloading URL https://mast.stsci.edu/api/v0.1/Download/file?uri=mast:JWST/product/jw02733001001_gs-acq1_2022154155702_cal.fits to ./mastDownload/JWST/jw02733001001_02101_00001_nrcb1/jw02733001001_gs-acq1_2022154155702_cal.fits ... [Done]\n",
      "Downloading URL https://mast.stsci.edu/api/v0.1/Download/file?uri=mast:JWST/product/jw02733001001_gs-acq1_2022154155748_cal.fits to ./mastDownload/JWST/jw02733001001_02101_00001_nrcb1/jw02733001001_gs-acq1_2022154155748_cal.fits ... [Done]\n",
      "Downloading URL https://mast.stsci.edu/api/v0.1/Download/file?uri=mast:JWST/product/jw02733001001_gs-acq2_2022154155704_stream.fits to ./mastDownload/JWST/jw02733001001_02101_00001_nrcb1/jw02733001001_gs-acq2_2022154155704_stream.fits ... [Done]\n",
      "Downloading URL https://mast.stsci.edu/api/v0.1/Download/file?uri=mast:JWST/product/jw02733001001_gs-acq2_2022154155704_uncal.fits to ./mastDownload/JWST/jw02733001001_02101_00001_nrcb1/jw02733001001_gs-acq2_2022154155704_uncal.fits ... [Done]\n",
      "Downloading URL https://mast.stsci.edu/api/v0.1/Download/file?uri=mast:JWST/product/jw02733001001_gs-acq2_2022154155750_stream.fits to ./mastDownload/JWST/jw02733001001_02101_00001_nrcb1/jw02733001001_gs-acq2_2022154155750_stream.fits ... [Done]\n",
      "Downloading URL https://mast.stsci.edu/api/v0.1/Download/file?uri=mast:JWST/product/jw02733001001_gs-acq2_2022154155750_uncal.fits to ./mastDownload/JWST/jw02733001001_02101_00001_nrcb1/jw02733001001_gs-acq2_2022154155750_uncal.fits ... [Done]\n",
      "Downloading URL https://mast.stsci.edu/api/v0.1/Download/file?uri=mast:JWST/product/jw02733001001_gs-acq2_2022154155704_cal.fits to ./mastDownload/JWST/jw02733001001_02101_00001_nrcb1/jw02733001001_gs-acq2_2022154155704_cal.fits ... [Done]\n",
      "Downloading URL https://mast.stsci.edu/api/v0.1/Download/file?uri=mast:JWST/product/jw02733001001_gs-acq2_2022154155750_cal.fits to ./mastDownload/JWST/jw02733001001_02101_00001_nrcb1/jw02733001001_gs-acq2_2022154155750_cal.fits ... [Done]\n",
      "Downloading URL https://mast.stsci.edu/api/v0.1/Download/file?uri=mast:JWST/product/jw02733001001_gs-fg_2022154160652_stream.fits to ./mastDownload/JWST/jw02733001001_02101_00001_nrcb1/jw02733001001_gs-fg_2022154160652_stream.fits ... [Done]\n",
      "Downloading URL https://mast.stsci.edu/api/v0.1/Download/file?uri=mast:JWST/product/jw02733001001_gs-fg_2022154160652_uncal.fits to ./mastDownload/JWST/jw02733001001_02101_00001_nrcb1/jw02733001001_gs-fg_2022154160652_uncal.fits ... [Done]\n",
      "Downloading URL https://mast.stsci.edu/api/v0.1/Download/file?uri=mast:JWST/product/jw02733001001_gs-fg_2022154161308_stream.fits to ./mastDownload/JWST/jw02733001001_02101_00001_nrcb1/jw02733001001_gs-fg_2022154161308_stream.fits ... [Done]\n",
      "Downloading URL https://mast.stsci.edu/api/v0.1/Download/file?uri=mast:JWST/product/jw02733001001_gs-fg_2022154161308_uncal.fits to ./mastDownload/JWST/jw02733001001_02101_00001_nrcb1/jw02733001001_gs-fg_2022154161308_uncal.fits ... [Done]\n",
      "Downloading URL https://mast.stsci.edu/api/v0.1/Download/file?uri=mast:JWST/product/jw02733001001_gs-fg_2022154161922_stream.fits to ./mastDownload/JWST/jw02733001001_02101_00001_nrcb1/jw02733001001_gs-fg_2022154161922_stream.fits ... [Done]\n",
      "Downloading URL https://mast.stsci.edu/api/v0.1/Download/file?uri=mast:JWST/product/jw02733001001_gs-fg_2022154161922_uncal.fits to ./mastDownload/JWST/jw02733001001_02101_00001_nrcb1/jw02733001001_gs-fg_2022154161922_uncal.fits ... [Done]\n",
      "Downloading URL https://mast.stsci.edu/api/v0.1/Download/file?uri=mast:JWST/product/jw02733001001_gs-fg_2022154162540_stream.fits to ./mastDownload/JWST/jw02733001001_02101_00001_nrcb1/jw02733001001_gs-fg_2022154162540_stream.fits ... [Done]\n",
      "Downloading URL https://mast.stsci.edu/api/v0.1/Download/file?uri=mast:JWST/product/jw02733001001_gs-fg_2022154162540_uncal.fits to ./mastDownload/JWST/jw02733001001_02101_00001_nrcb1/jw02733001001_gs-fg_2022154162540_uncal.fits ... [Done]\n",
      "Downloading URL https://mast.stsci.edu/api/v0.1/Download/file?uri=mast:JWST/product/jw02733001001_gs-fg_2022154163156_stream.fits to ./mastDownload/JWST/jw02733001001_02101_00001_nrcb1/jw02733001001_gs-fg_2022154163156_stream.fits ... [Done]\n",
      "Downloading URL https://mast.stsci.edu/api/v0.1/Download/file?uri=mast:JWST/product/jw02733001001_gs-fg_2022154163156_uncal.fits to ./mastDownload/JWST/jw02733001001_02101_00001_nrcb1/jw02733001001_gs-fg_2022154163156_uncal.fits ... [Done]\n",
      "Downloading URL https://mast.stsci.edu/api/v0.1/Download/file?uri=mast:JWST/product/jw02733001001_gs-fg_2022154163812_stream.fits to ./mastDownload/JWST/jw02733001001_02101_00001_nrcb1/jw02733001001_gs-fg_2022154163812_stream.fits ... [Done]\n",
      "Downloading URL https://mast.stsci.edu/api/v0.1/Download/file?uri=mast:JWST/product/jw02733001001_gs-fg_2022154163812_uncal.fits to ./mastDownload/JWST/jw02733001001_02101_00001_nrcb1/jw02733001001_gs-fg_2022154163812_uncal.fits ... [Done]\n",
      "Downloading URL https://mast.stsci.edu/api/v0.1/Download/file?uri=mast:JWST/product/jw02733001001_gs-fg_2022154164426_stream.fits to ./mastDownload/JWST/jw02733001001_02101_00001_nrcb1/jw02733001001_gs-fg_2022154164426_stream.fits ... [Done]\n",
      "Downloading URL https://mast.stsci.edu/api/v0.1/Download/file?uri=mast:JWST/product/jw02733001001_gs-fg_2022154164426_uncal.fits to ./mastDownload/JWST/jw02733001001_02101_00001_nrcb1/jw02733001001_gs-fg_2022154164426_uncal.fits ... [Done]\n",
      "Downloading URL https://mast.stsci.edu/api/v0.1/Download/file?uri=mast:JWST/product/jw02733001001_gs-fg_2022154165056_stream.fits to ./mastDownload/JWST/jw02733001001_02101_00001_nrcb1/jw02733001001_gs-fg_2022154165056_stream.fits ... [Done]\n",
      "Downloading URL https://mast.stsci.edu/api/v0.1/Download/file?uri=mast:JWST/product/jw02733001001_gs-fg_2022154165056_uncal.fits to ./mastDownload/JWST/jw02733001001_02101_00001_nrcb1/jw02733001001_gs-fg_2022154165056_uncal.fits ... [Done]\n",
      "Downloading URL https://mast.stsci.edu/api/v0.1/Download/file?uri=mast:JWST/product/jw02733001001_gs-fg_2022154165949_stream.fits to ./mastDownload/JWST/jw02733001001_02101_00001_nrcb1/jw02733001001_gs-fg_2022154165949_stream.fits ... [Done]\n",
      "Downloading URL https://mast.stsci.edu/api/v0.1/Download/file?uri=mast:JWST/product/jw02733001001_gs-fg_2022154165949_uncal.fits to ./mastDownload/JWST/jw02733001001_02101_00001_nrcb1/jw02733001001_gs-fg_2022154165949_uncal.fits ... [Done]\n",
      "Downloading URL https://mast.stsci.edu/api/v0.1/Download/file?uri=mast:JWST/product/jw02733001001_gs-fg_2022154170604_stream.fits to ./mastDownload/JWST/jw02733001001_02101_00001_nrcb1/jw02733001001_gs-fg_2022154170604_stream.fits ... [Done]\n",
      "Downloading URL https://mast.stsci.edu/api/v0.1/Download/file?uri=mast:JWST/product/jw02733001001_gs-fg_2022154170604_uncal.fits to ./mastDownload/JWST/jw02733001001_02101_00001_nrcb1/jw02733001001_gs-fg_2022154170604_uncal.fits ... [Done]\n",
      "Downloading URL https://mast.stsci.edu/api/v0.1/Download/file?uri=mast:JWST/product/jw02733001001_gs-fg_2022154171209_stream.fits to ./mastDownload/JWST/jw02733001001_02101_00001_nrcb1/jw02733001001_gs-fg_2022154171209_stream.fits ... [Done]\n",
      "Downloading URL https://mast.stsci.edu/api/v0.1/Download/file?uri=mast:JWST/product/jw02733001001_gs-fg_2022154171209_uncal.fits to ./mastDownload/JWST/jw02733001001_02101_00001_nrcb1/jw02733001001_gs-fg_2022154171209_uncal.fits ... [Done]\n",
      "Downloading URL https://mast.stsci.edu/api/v0.1/Download/file?uri=mast:JWST/product/jw02733001001_gs-fg_2022154171826_stream.fits to ./mastDownload/JWST/jw02733001001_02101_00001_nrcb1/jw02733001001_gs-fg_2022154171826_stream.fits ... [Done]\n",
      "Downloading URL https://mast.stsci.edu/api/v0.1/Download/file?uri=mast:JWST/product/jw02733001001_gs-fg_2022154171826_uncal.fits to ./mastDownload/JWST/jw02733001001_02101_00001_nrcb1/jw02733001001_gs-fg_2022154171826_uncal.fits ... [Done]\n",
      "Downloading URL https://mast.stsci.edu/api/v0.1/Download/file?uri=mast:JWST/product/jw02733001001_gs-fg_2022154172443_stream.fits to ./mastDownload/JWST/jw02733001001_02101_00001_nrcb1/jw02733001001_gs-fg_2022154172443_stream.fits ... [Done]\n",
      "Downloading URL https://mast.stsci.edu/api/v0.1/Download/file?uri=mast:JWST/product/jw02733001001_gs-fg_2022154172443_uncal.fits to ./mastDownload/JWST/jw02733001001_02101_00001_nrcb1/jw02733001001_gs-fg_2022154172443_uncal.fits ... [Done]\n",
      "Downloading URL https://mast.stsci.edu/api/v0.1/Download/file?uri=mast:JWST/product/jw02733001001_gs-fg_2022154173058_stream.fits to ./mastDownload/JWST/jw02733001001_02101_00001_nrcb1/jw02733001001_gs-fg_2022154173058_stream.fits ... [Done]\n",
      "Downloading URL https://mast.stsci.edu/api/v0.1/Download/file?uri=mast:JWST/product/jw02733001001_gs-fg_2022154173058_uncal.fits to ./mastDownload/JWST/jw02733001001_02101_00001_nrcb1/jw02733001001_gs-fg_2022154173058_uncal.fits ... [Done]\n",
      "Downloading URL https://mast.stsci.edu/api/v0.1/Download/file?uri=mast:JWST/product/jw02733001001_gs-fg_2022154173713_stream.fits to ./mastDownload/JWST/jw02733001001_02101_00001_nrcb1/jw02733001001_gs-fg_2022154173713_stream.fits ... [Done]\n",
      "Downloading URL https://mast.stsci.edu/api/v0.1/Download/file?uri=mast:JWST/product/jw02733001001_gs-fg_2022154173713_uncal.fits to ./mastDownload/JWST/jw02733001001_02101_00001_nrcb1/jw02733001001_gs-fg_2022154173713_uncal.fits ... [Done]\n",
      "Downloading URL https://mast.stsci.edu/api/v0.1/Download/file?uri=mast:JWST/product/jw02733001001_gs-fg_2022154174344_stream.fits to ./mastDownload/JWST/jw02733001001_02101_00001_nrcb1/jw02733001001_gs-fg_2022154174344_stream.fits ... [Done]\n",
      "Downloading URL https://mast.stsci.edu/api/v0.1/Download/file?uri=mast:JWST/product/jw02733001001_gs-fg_2022154174344_uncal.fits to ./mastDownload/JWST/jw02733001001_02101_00001_nrcb1/jw02733001001_gs-fg_2022154174344_uncal.fits ... [Done]\n",
      "Downloading URL https://mast.stsci.edu/api/v0.1/Download/file?uri=mast:JWST/product/jw02733001001_gs-fg_2022154175050_stream.fits to ./mastDownload/JWST/jw02733001001_02101_00001_nrcb1/jw02733001001_gs-fg_2022154175050_stream.fits ... [Done]\n",
      "Downloading URL https://mast.stsci.edu/api/v0.1/Download/file?uri=mast:JWST/product/jw02733001001_gs-fg_2022154175050_uncal.fits to ./mastDownload/JWST/jw02733001001_02101_00001_nrcb1/jw02733001001_gs-fg_2022154175050_uncal.fits ... [Done]\n",
      "Downloading URL https://mast.stsci.edu/api/v0.1/Download/file?uri=mast:JWST/product/jw02733001001_gs-fg_2022154175517_stream.fits to ./mastDownload/JWST/jw02733001001_02101_00001_nrcb1/jw02733001001_gs-fg_2022154175517_stream.fits ... [Done]\n",
      "Downloading URL https://mast.stsci.edu/api/v0.1/Download/file?uri=mast:JWST/product/jw02733001001_gs-fg_2022154175517_uncal.fits to ./mastDownload/JWST/jw02733001001_02101_00001_nrcb1/jw02733001001_gs-fg_2022154175517_uncal.fits ... [Done]\n",
      "Downloading URL https://mast.stsci.edu/api/v0.1/Download/file?uri=mast:JWST/product/jw02733001001_gs-fg_2022154175947_stream.fits to ./mastDownload/JWST/jw02733001001_02101_00001_nrcb1/jw02733001001_gs-fg_2022154175947_stream.fits ... [Done]\n",
      "Downloading URL https://mast.stsci.edu/api/v0.1/Download/file?uri=mast:JWST/product/jw02733001001_gs-fg_2022154175947_uncal.fits to ./mastDownload/JWST/jw02733001001_02101_00001_nrcb1/jw02733001001_gs-fg_2022154175947_uncal.fits ... [Done]\n",
      "Downloading URL https://mast.stsci.edu/api/v0.1/Download/file?uri=mast:JWST/product/jw02733001001_gs-fg_2022154180415_stream.fits to ./mastDownload/JWST/jw02733001001_02101_00001_nrcb1/jw02733001001_gs-fg_2022154180415_stream.fits ... [Done]\n",
      "Downloading URL https://mast.stsci.edu/api/v0.1/Download/file?uri=mast:JWST/product/jw02733001001_gs-fg_2022154180415_uncal.fits to ./mastDownload/JWST/jw02733001001_02101_00001_nrcb1/jw02733001001_gs-fg_2022154180415_uncal.fits ... [Done]\n",
      "Downloading URL https://mast.stsci.edu/api/v0.1/Download/file?uri=mast:JWST/product/jw02733001001_gs-fg_2022154180844_stream.fits to ./mastDownload/JWST/jw02733001001_02101_00001_nrcb1/jw02733001001_gs-fg_2022154180844_stream.fits ... [Done]\n",
      "Downloading URL https://mast.stsci.edu/api/v0.1/Download/file?uri=mast:JWST/product/jw02733001001_gs-fg_2022154180844_uncal.fits to ./mastDownload/JWST/jw02733001001_02101_00001_nrcb1/jw02733001001_gs-fg_2022154180844_uncal.fits ... [Done]\n",
      "Downloading URL https://mast.stsci.edu/api/v0.1/Download/file?uri=mast:JWST/product/jw02733001001_gs-fg_2022154181312_stream.fits to ./mastDownload/JWST/jw02733001001_02101_00001_nrcb1/jw02733001001_gs-fg_2022154181312_stream.fits ... [Done]\n",
      "Downloading URL https://mast.stsci.edu/api/v0.1/Download/file?uri=mast:JWST/product/jw02733001001_gs-fg_2022154181312_uncal.fits to ./mastDownload/JWST/jw02733001001_02101_00001_nrcb1/jw02733001001_gs-fg_2022154181312_uncal.fits ... [Done]\n",
      "Downloading URL https://mast.stsci.edu/api/v0.1/Download/file?uri=mast:JWST/product/jw02733001001_gs-fg_2022154181740_stream.fits to ./mastDownload/JWST/jw02733001001_02101_00001_nrcb1/jw02733001001_gs-fg_2022154181740_stream.fits ... [Done]\n",
      "Downloading URL https://mast.stsci.edu/api/v0.1/Download/file?uri=mast:JWST/product/jw02733001001_gs-fg_2022154181740_uncal.fits to ./mastDownload/JWST/jw02733001001_02101_00001_nrcb1/jw02733001001_gs-fg_2022154181740_uncal.fits ... [Done]\n",
      "Downloading URL https://mast.stsci.edu/api/v0.1/Download/file?uri=mast:JWST/product/jw02733001001_gs-fg_2022154182221_stream.fits to ./mastDownload/JWST/jw02733001001_02101_00001_nrcb1/jw02733001001_gs-fg_2022154182221_stream.fits ... [Done]\n",
      "Downloading URL https://mast.stsci.edu/api/v0.1/Download/file?uri=mast:JWST/product/jw02733001001_gs-fg_2022154182221_uncal.fits to ./mastDownload/JWST/jw02733001001_02101_00001_nrcb1/jw02733001001_gs-fg_2022154182221_uncal.fits ... [Done]\n",
      "Downloading URL https://mast.stsci.edu/api/v0.1/Download/file?uri=mast:JWST/product/jw02733001001_gs-fg_2022154160652_cal.fits to ./mastDownload/JWST/jw02733001001_02101_00001_nrcb1/jw02733001001_gs-fg_2022154160652_cal.fits ... [Done]\n",
      "Downloading URL https://mast.stsci.edu/api/v0.1/Download/file?uri=mast:JWST/product/jw02733001001_gs-fg_2022154161308_cal.fits to ./mastDownload/JWST/jw02733001001_02101_00001_nrcb1/jw02733001001_gs-fg_2022154161308_cal.fits ... [Done]\n",
      "Downloading URL https://mast.stsci.edu/api/v0.1/Download/file?uri=mast:JWST/product/jw02733001001_gs-fg_2022154161922_cal.fits to ./mastDownload/JWST/jw02733001001_02101_00001_nrcb1/jw02733001001_gs-fg_2022154161922_cal.fits ... [Done]\n",
      "Downloading URL https://mast.stsci.edu/api/v0.1/Download/file?uri=mast:JWST/product/jw02733001001_gs-fg_2022154162540_cal.fits to ./mastDownload/JWST/jw02733001001_02101_00001_nrcb1/jw02733001001_gs-fg_2022154162540_cal.fits ... [Done]\n",
      "Downloading URL https://mast.stsci.edu/api/v0.1/Download/file?uri=mast:JWST/product/jw02733001001_gs-fg_2022154163156_cal.fits to ./mastDownload/JWST/jw02733001001_02101_00001_nrcb1/jw02733001001_gs-fg_2022154163156_cal.fits ... [Done]\n",
      "Downloading URL https://mast.stsci.edu/api/v0.1/Download/file?uri=mast:JWST/product/jw02733001001_gs-fg_2022154163812_cal.fits to ./mastDownload/JWST/jw02733001001_02101_00001_nrcb1/jw02733001001_gs-fg_2022154163812_cal.fits ... [Done]\n",
      "Downloading URL https://mast.stsci.edu/api/v0.1/Download/file?uri=mast:JWST/product/jw02733001001_gs-fg_2022154164426_cal.fits to ./mastDownload/JWST/jw02733001001_02101_00001_nrcb1/jw02733001001_gs-fg_2022154164426_cal.fits ... [Done]\n",
      "Downloading URL https://mast.stsci.edu/api/v0.1/Download/file?uri=mast:JWST/product/jw02733001001_gs-fg_2022154165056_cal.fits to ./mastDownload/JWST/jw02733001001_02101_00001_nrcb1/jw02733001001_gs-fg_2022154165056_cal.fits ... [Done]\n",
      "Downloading URL https://mast.stsci.edu/api/v0.1/Download/file?uri=mast:JWST/product/jw02733001001_gs-fg_2022154165949_cal.fits to ./mastDownload/JWST/jw02733001001_02101_00001_nrcb1/jw02733001001_gs-fg_2022154165949_cal.fits ... [Done]\n",
      "Downloading URL https://mast.stsci.edu/api/v0.1/Download/file?uri=mast:JWST/product/jw02733001001_gs-fg_2022154170604_cal.fits to ./mastDownload/JWST/jw02733001001_02101_00001_nrcb1/jw02733001001_gs-fg_2022154170604_cal.fits ... [Done]\n",
      "Downloading URL https://mast.stsci.edu/api/v0.1/Download/file?uri=mast:JWST/product/jw02733001001_gs-fg_2022154171209_cal.fits to ./mastDownload/JWST/jw02733001001_02101_00001_nrcb1/jw02733001001_gs-fg_2022154171209_cal.fits ... [Done]\n",
      "Downloading URL https://mast.stsci.edu/api/v0.1/Download/file?uri=mast:JWST/product/jw02733001001_gs-fg_2022154171826_cal.fits to ./mastDownload/JWST/jw02733001001_02101_00001_nrcb1/jw02733001001_gs-fg_2022154171826_cal.fits ... [Done]\n",
      "Downloading URL https://mast.stsci.edu/api/v0.1/Download/file?uri=mast:JWST/product/jw02733001001_gs-fg_2022154172443_cal.fits to ./mastDownload/JWST/jw02733001001_02101_00001_nrcb1/jw02733001001_gs-fg_2022154172443_cal.fits ... [Done]\n",
      "Downloading URL https://mast.stsci.edu/api/v0.1/Download/file?uri=mast:JWST/product/jw02733001001_gs-fg_2022154173058_cal.fits to ./mastDownload/JWST/jw02733001001_02101_00001_nrcb1/jw02733001001_gs-fg_2022154173058_cal.fits ... [Done]\n",
      "Downloading URL https://mast.stsci.edu/api/v0.1/Download/file?uri=mast:JWST/product/jw02733001001_gs-fg_2022154173713_cal.fits to ./mastDownload/JWST/jw02733001001_02101_00001_nrcb1/jw02733001001_gs-fg_2022154173713_cal.fits ... [Done]\n",
      "Downloading URL https://mast.stsci.edu/api/v0.1/Download/file?uri=mast:JWST/product/jw02733001001_gs-fg_2022154174344_cal.fits to ./mastDownload/JWST/jw02733001001_02101_00001_nrcb1/jw02733001001_gs-fg_2022154174344_cal.fits ... [Done]\n",
      "Downloading URL https://mast.stsci.edu/api/v0.1/Download/file?uri=mast:JWST/product/jw02733001001_gs-fg_2022154175050_cal.fits to ./mastDownload/JWST/jw02733001001_02101_00001_nrcb1/jw02733001001_gs-fg_2022154175050_cal.fits ... [Done]\n",
      "Downloading URL https://mast.stsci.edu/api/v0.1/Download/file?uri=mast:JWST/product/jw02733001001_gs-fg_2022154175517_cal.fits to ./mastDownload/JWST/jw02733001001_02101_00001_nrcb1/jw02733001001_gs-fg_2022154175517_cal.fits ... [Done]\n",
      "Downloading URL https://mast.stsci.edu/api/v0.1/Download/file?uri=mast:JWST/product/jw02733001001_gs-fg_2022154175947_cal.fits to ./mastDownload/JWST/jw02733001001_02101_00001_nrcb1/jw02733001001_gs-fg_2022154175947_cal.fits ... [Done]\n",
      "Downloading URL https://mast.stsci.edu/api/v0.1/Download/file?uri=mast:JWST/product/jw02733001001_gs-fg_2022154180415_cal.fits to ./mastDownload/JWST/jw02733001001_02101_00001_nrcb1/jw02733001001_gs-fg_2022154180415_cal.fits ... [Done]\n",
      "Downloading URL https://mast.stsci.edu/api/v0.1/Download/file?uri=mast:JWST/product/jw02733001001_gs-fg_2022154180844_cal.fits to ./mastDownload/JWST/jw02733001001_02101_00001_nrcb1/jw02733001001_gs-fg_2022154180844_cal.fits ... [Done]\n",
      "Downloading URL https://mast.stsci.edu/api/v0.1/Download/file?uri=mast:JWST/product/jw02733001001_gs-fg_2022154181312_cal.fits to ./mastDownload/JWST/jw02733001001_02101_00001_nrcb1/jw02733001001_gs-fg_2022154181312_cal.fits ... [Done]\n",
      "Downloading URL https://mast.stsci.edu/api/v0.1/Download/file?uri=mast:JWST/product/jw02733001001_gs-fg_2022154181740_cal.fits to ./mastDownload/JWST/jw02733001001_02101_00001_nrcb1/jw02733001001_gs-fg_2022154181740_cal.fits ... [Done]\n",
      "Downloading URL https://mast.stsci.edu/api/v0.1/Download/file?uri=mast:JWST/product/jw02733001001_gs-fg_2022154182221_cal.fits to ./mastDownload/JWST/jw02733001001_02101_00001_nrcb1/jw02733001001_gs-fg_2022154182221_cal.fits ... [Done]\n",
      "Downloading URL https://mast.stsci.edu/api/v0.1/Download/file?uri=mast:JWST/product/jw02733001001_gs-id_1_image_uncal.fits to ./mastDownload/JWST/jw02733001001_02101_00001_nrcb1/jw02733001001_gs-id_1_image_uncal.fits ... [Done]\n",
      "Downloading URL https://mast.stsci.edu/api/v0.1/Download/file?uri=mast:JWST/product/jw02733001001_gs-id_1_stacked_uncal.fits to ./mastDownload/JWST/jw02733001001_02101_00001_nrcb1/jw02733001001_gs-id_1_stacked_uncal.fits ... [Done]\n",
      "Downloading URL https://mast.stsci.edu/api/v0.1/Download/file?uri=mast:JWST/product/jw02733001001_gs-id_1_stream.fits to ./mastDownload/JWST/jw02733001001_02101_00001_nrcb1/jw02733001001_gs-id_1_stream.fits ... [Done]\n",
      "Downloading URL https://mast.stsci.edu/api/v0.1/Download/file?uri=mast:JWST/product/jw02733001001_gs-id_2_image_uncal.fits to ./mastDownload/JWST/jw02733001001_02101_00001_nrcb1/jw02733001001_gs-id_2_image_uncal.fits ... [Done]\n",
      "Downloading URL https://mast.stsci.edu/api/v0.1/Download/file?uri=mast:JWST/product/jw02733001001_gs-id_2_stacked_uncal.fits to ./mastDownload/JWST/jw02733001001_02101_00001_nrcb1/jw02733001001_gs-id_2_stacked_uncal.fits ... [Done]\n",
      "Downloading URL https://mast.stsci.edu/api/v0.1/Download/file?uri=mast:JWST/product/jw02733001001_gs-id_2_stream.fits to ./mastDownload/JWST/jw02733001001_02101_00001_nrcb1/jw02733001001_gs-id_2_stream.fits ... [Done]\n",
      "Downloading URL https://mast.stsci.edu/api/v0.1/Download/file?uri=mast:JWST/product/jw02733001001_gs-id_3_image_uncal.fits to ./mastDownload/JWST/jw02733001001_02101_00001_nrcb1/jw02733001001_gs-id_3_image_uncal.fits ... [Done]\n",
      "Downloading URL https://mast.stsci.edu/api/v0.1/Download/file?uri=mast:JWST/product/jw02733001001_gs-id_3_stacked_uncal.fits to ./mastDownload/JWST/jw02733001001_02101_00001_nrcb1/jw02733001001_gs-id_3_stacked_uncal.fits ... [Done]\n",
      "Downloading URL https://mast.stsci.edu/api/v0.1/Download/file?uri=mast:JWST/product/jw02733001001_gs-id_3_stream.fits to ./mastDownload/JWST/jw02733001001_02101_00001_nrcb1/jw02733001001_gs-id_3_stream.fits ... [Done]\n",
      "Downloading URL https://mast.stsci.edu/api/v0.1/Download/file?uri=mast:JWST/product/jw02733001001_gs-id_1_image_cal.fits to ./mastDownload/JWST/jw02733001001_02101_00001_nrcb1/jw02733001001_gs-id_1_image_cal.fits ..."
     ]
    }
   ],
   "source": [
    "products = Observations.get_product_list(obs)\n",
    "Observations.download_products(products, mrp_only=False)"
   ]
  },
  {
   "cell_type": "code",
   "execution_count": null,
   "id": "023773f9-2e6d-4fa3-8624-dc22e974a4dc",
   "metadata": {},
   "outputs": [],
   "source": [
    "obs = Observations.query_criteria(\n",
    "        obs_collection = 'JWST',\n",
    "        instrument_name = 'MIRI',\n",
    "        proposal_id = '02733',\n",
    "    \n",
    "        calib_level = '3'\n",
    "    )\n",
    "obs"
   ]
  },
  {
   "cell_type": "code",
   "execution_count": null,
   "id": "dc2a4009-58ab-492e-9e9c-21f376134699",
   "metadata": {},
   "outputs": [],
   "source": [
    "products = Observations.get_product_list(obs)\n",
    "Observations.download_products(products, mrp_only=False)"
   ]
  },
  {
   "cell_type": "markdown",
   "id": "e68e2da1-b70c-4de5-b6d7-b73b89a02a3c",
   "metadata": {},
   "source": [
    "3.<font color='white'>-</font>Load and Manipulate Data <a class=\"anchor\" id=\"load\"></a>\n",
    "------------------"
   ]
  },
  {
   "cell_type": "code",
   "execution_count": 4,
   "id": "0d980074",
   "metadata": {},
   "outputs": [],
   "source": [
    "# Define files\n",
    "\n",
    "file_090 = './mastDownload/JWST/jw02733-o001_t001_nircam_clear-f090w/jw02733-o001_t001_nircam_clear-f090w_i2d.fits'\n",
    "file_187 = './mastDownload/JWST/jw02733-o001_t001_nircam_clear-f187n/jw02733-o001_t001_nircam_clear-f187n_i2d.fits'\n",
    "file_356 = './mastDownload/JWST/jw02733-o001_t001_nircam_clear-f356w/jw02733-o001_t001_nircam_clear-f356w_i2d.fits'\n",
    "file_440 = './mastDownload/JWST/jw02733-o001_t001_nircam_f444w-f470n/jw02733-o001_t001_nircam_f444w-f470n_i2d.fits'\n",
    "file_770 = './mastDownload/JWST/jw02733-o002_t001_miri_f770w/jw02733-o002_t001_miri_f770w_i2d.fits'\n",
    "file_1130 = './mastDownload/JWST/jw02733-o002_t001_miri_f1130w/jw02733-o002_t001_miri_f1130w_i2d.fits'\n",
    "file_1800 = './mastDownload/JWST/jw02733-o002_t001_miri_f1800w/jw02733-o002_t001_miri_f1800w_i2d.fits'"
   ]
  },
  {
   "cell_type": "raw",
   "id": "599b6d06-02f3-4de3-aa6a-4de40bd788f3",
   "metadata": {},
   "source": [
    "# alternative way to read in data if you want\n",
    "im = fits.open(file_150)\n",
    "hdr150 = im[\"SCI\",1].header\n",
    "w150 = WCS(im[\"SCI\",1].header)\n",
    "data150 = im[1].data"
   ]
  },
  {
   "cell_type": "code",
   "execution_count": 5,
   "id": "7da1ba66-b06f-4b73-9f2c-ea2abd4e597a",
   "metadata": {},
   "outputs": [],
   "source": [
    "# Open Imviz in sidecar window\n",
    "\n",
    "imviz = Imviz()\n",
    "imviz.show_in_sidecar()"
   ]
  },
  {
   "cell_type": "code",
   "execution_count": 6,
   "id": "798105c6",
   "metadata": {},
   "outputs": [
    {
     "name": "stderr",
     "output_type": "stream",
     "text": [
      "/Users/ofox/miniconda3/envs/eros/lib/python3.9/site-packages/glue/viewers/common/viewer.py:186: UserWarning: Add large data set?\n",
      "  warnings.warn(message)\n",
      "/Users/ofox/miniconda3/envs/eros/lib/python3.9/site-packages/glue/viewers/common/viewer.py:186: UserWarning: Add large data set?\n",
      "  warnings.warn(message)\n"
     ]
    }
   ],
   "source": [
    "# Load data\n",
    "\n",
    "imviz.load_data(file_090, data_label='F090W')\n",
    "imviz.load_data(file_187, data_label='F187W')\n",
    "imviz.load_data(file_356, data_label='F356W')\n",
    "imviz.load_data(file_440, data_label='F440W')\n",
    "imviz.load_data(file_770, data_label='F770W')\n",
    "imviz.load_data(file_1130, data_label='F1130W')\n",
    "imviz.load_data(file_1800, data_label='F1800W')"
   ]
  },
  {
   "cell_type": "code",
   "execution_count": null,
   "id": "f4cc7fe6-812a-41a9-8d50-f8de8a0efcdf",
   "metadata": {},
   "outputs": [],
   "source": [
    "# 'Viewer' command only works on image showing, so blink to see second image\n",
    "# Apply cut\n",
    "\n",
    "\n",
    "viewer = imviz.default_viewer\n",
    "viewer.cuts = '95%'\n",
    "viewer.blink_once()\n",
    "viewer.cuts = '95%'"
   ]
  },
  {
   "cell_type": "code",
   "execution_count": null,
   "id": "4225a376-73f7-463e-8932-e179b1c969de",
   "metadata": {},
   "outputs": [],
   "source": []
  },
  {
   "cell_type": "code",
   "execution_count": null,
   "id": "5b64fb17",
   "metadata": {},
   "outputs": [],
   "source": [
    "# Change colormap for first image\n",
    "viewer.colormap_options\n",
    "viewer.set_colormap('Hot')"
   ]
  },
  {
   "cell_type": "code",
   "execution_count": null,
   "id": "5ab82093-14e4-4c86-8cf4-9a31b439f37d",
   "metadata": {},
   "outputs": [],
   "source": [
    "viewer.blink_once()"
   ]
  },
  {
   "cell_type": "code",
   "execution_count": null,
   "id": "b9e0e285-05ff-4db8-9fde-2f9859e410ef",
   "metadata": {},
   "outputs": [],
   "source": [
    "# Change colormap for second image\n",
    "viewer.colormap_options\n",
    "viewer.set_colormap('Purple-Blue')"
   ]
  },
  {
   "cell_type": "code",
   "execution_count": null,
   "id": "9040401c",
   "metadata": {},
   "outputs": [],
   "source": [
    "# Add markers representing all objectes detected in photometry catalog\n",
    "\n",
    "viewer.marker = {'color': 'green', 'alpha': 0.8, 'markersize': 10, 'fill': False}\n",
    "calib_cat_F560W = Table.read('./mastDownload/JWST/jw02733-o001_t001_nircam_clear-f090w/jw02733-o001_t001_nircam_clear-f090w_cat.ecsv')\n",
    "coord_i2d = Table({'coord': [SkyCoord(ra=calib_cat_F560W['sky_centroid'].ra.degree, dec=calib_cat_F560W['sky_centroid'].dec.degree, unit=\"deg\")]})"
   ]
  },
  {
   "cell_type": "code",
   "execution_count": null,
   "id": "f888c0ce",
   "metadata": {},
   "outputs": [],
   "source": [
    "viewer.add_markers(coord_i2d, use_skycoord=True, marker_name='my_sky')"
   ]
  },
  {
   "cell_type": "code",
   "execution_count": null,
   "id": "fca6ddfe",
   "metadata": {},
   "outputs": [],
   "source": [
    "# Remove markers\n",
    "\n",
    "viewer.remove_markers(marker_name='my_sky')"
   ]
  },
  {
   "cell_type": "markdown",
   "id": "5630029f-31d1-42cd-8454-225e86cabc48",
   "metadata": {},
   "source": [
    "<hr style=\"border:1px solid gray\"> </hr>"
   ]
  },
  {
   "cell_type": "markdown",
   "id": "843b5201-6f57-46f0-9da0-b738714178d3",
   "metadata": {},
   "source": [
    "<img style=\"float: center;\" src=\"https://raw.githubusercontent.com/spacetelescope/notebooks/master/assets/stsci_pri_combo_mark_horizonal_white_bkgd.png\" alt=\"Space Telescope Logo\" width=\"200px\"/>"
   ]
  }
 ],
 "metadata": {
  "kernelspec": {
   "display_name": "Python 3 (ipykernel)",
   "language": "python",
   "name": "python3"
  },
  "language_info": {
   "codemirror_mode": {
    "name": "ipython",
    "version": 3
   },
   "file_extension": ".py",
   "mimetype": "text/x-python",
   "name": "python",
   "nbconvert_exporter": "python",
   "pygments_lexer": "ipython3",
   "version": "3.9.12"
  },
  "toc-showcode": false
 },
 "nbformat": 4,
 "nbformat_minor": 5
}
