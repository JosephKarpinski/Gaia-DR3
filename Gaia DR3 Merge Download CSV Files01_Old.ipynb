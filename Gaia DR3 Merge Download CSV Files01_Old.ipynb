{
 "cells": [
  {
   "cell_type": "code",
   "execution_count": null,
   "metadata": {},
   "outputs": [],
   "source": [
    "import webbrowser\n",
    "\n",
    "webbrowser.open('http://cdn.gea.esac.esa.int/Gaia/gdr3/gaia_source/')\n",
    "\n",
    "webbrowser.open('http://cdn.gea.esac.esa.int/Gaia/gdr3/Astrophysical_parameters/astrophysical_parameters/')\n",
    "\n",
    "webbrowser.open('http://cdn.gea.esac.esa.int/Gaia/gdr3/')\n",
    "\n",
    "webbrowser.open(\"https://gea.esac.esa.int/archive/\")"
   ]
  },
  {
   "cell_type": "markdown",
   "metadata": {},
   "source": [
    "## Process Gaia DR3 Extended CSV Files"
   ]
  },
  {
   "cell_type": "code",
   "execution_count": 1,
   "metadata": {},
   "outputs": [],
   "source": [
    "from astropy.io import ascii \n",
    "\n",
    "import pandas as pd"
   ]
  },
  {
   "cell_type": "code",
   "execution_count": 2,
   "metadata": {},
   "outputs": [],
   "source": [
    "\n",
    "AstrophysicalParameters_table = ascii.read('AstrophysicalParameters_090621-093880.csv', delimiter=\",\")"
   ]
  },
  {
   "cell_type": "code",
   "execution_count": 3,
   "metadata": {},
   "outputs": [],
   "source": [
    "df1 = AstrophysicalParameters_table.to_pandas()"
   ]
  },
  {
   "cell_type": "code",
   "execution_count": 4,
   "metadata": {},
   "outputs": [],
   "source": [
    "df1 = df1[['source_id',\n",
    " 'teff_gspphot',\n",
    " 'logg_gspphot',\n",
    " 'mh_gspphot',\n",
    " 'distance_gspphot',\n",
    " 'ag_gspphot',\n",
    " 'abp_gspphot',\n",
    " 'arp_gspphot',\n",
    " 'ebpminrp_gspphot',\n",
    " 'mg_gspphot',\n",
    " 'radius_gspphot',\n",
    " 'teff_gspspec',\n",
    " 'logg_gspspec',\n",
    " 'mh_gspspec',\n",
    " 'alphafe_gspspec',\n",
    " 'fem_gspspec',\n",
    " 'sife_gspspec',\n",
    " 'cafe_gspspec',\n",
    " 'tife_gspspec',\n",
    " 'mgfe_gspspec',\n",
    " 'ndfe_gspspec',\n",
    " 'feiim_gspspec',\n",
    " 'sfe_gspspec',\n",
    " 'zrfe_gspspec',\n",
    " 'nfe_gspspec',\n",
    " 'crfe_gspspec',\n",
    " 'cefe_gspspec',\n",
    " 'nife_gspspec',\n",
    " 'classlabel_espels',\n",
    " 'ag_esphs',\n",
    " 'ebpminrp_esphs',\n",
    " 'teff_esphs',\n",
    " 'logg_esphs',\n",
    " 'vsini_esphs',\n",
    " 'spectraltype_esphs',\n",
    " 'teff_espucd',\n",
    " 'radius_flame',\n",
    " 'lum_flame',\n",
    " 'mass_flame',\n",
    " 'age_flame',\n",
    " 'evolstage_flame',\n",
    " 'gravredshift_flame']]"
   ]
  },
  {
   "cell_type": "code",
   "execution_count": 5,
   "metadata": {},
   "outputs": [],
   "source": [
    "df1 = df1[df1['spectraltype_esphs'] != 'null']\n",
    "df1 = df1[df1['spectraltype_esphs'] != 'unknown']"
   ]
  },
  {
   "cell_type": "code",
   "execution_count": 6,
   "metadata": {},
   "outputs": [],
   "source": [
    "\n",
    "GaiaSource_table = ascii.read('GaiaSource_090621-093880.csv', delimiter=\",\")"
   ]
  },
  {
   "cell_type": "code",
   "execution_count": 7,
   "metadata": {},
   "outputs": [],
   "source": [
    "df2 = GaiaSource_table.to_pandas()"
   ]
  },
  {
   "cell_type": "code",
   "execution_count": 8,
   "metadata": {},
   "outputs": [],
   "source": [
    "df2 = df2[['source_id',\n",
    " 'ra',\n",
    " 'dec',\n",
    " 'parallax',\n",
    " 'pm',\n",
    " 'pmra',\n",
    " 'pmdec',\n",
    " 'pseudocolour',\n",
    " 'phot_g_mean_mag',\n",
    " 'phot_bp_mean_mag',\n",
    " 'phot_rp_mean_mag',\n",
    " 'bp_rp',\n",
    " 'bp_g',\n",
    " 'g_rp',\n",
    " 'radial_velocity',\n",
    " 'l',\n",
    " 'b',\n",
    " 'ecl_lon',\n",
    " 'ecl_lat',\n",
    " 'teff_gspphot',\n",
    " 'logg_gspphot',\n",
    " 'mh_gspphot',\n",
    " 'distance_gspphot',\n",
    " 'ag_gspphot',\n",
    " 'ebpminrp_gspphot']]"
   ]
  },
  {
   "cell_type": "code",
   "execution_count": 9,
   "metadata": {},
   "outputs": [
    {
     "data": {
      "text/plain": [
       "125686"
      ]
     },
     "execution_count": 9,
     "metadata": {},
     "output_type": "execute_result"
    }
   ],
   "source": [
    "df_Match = df2[df2['source_id'].isin(df1['source_id'])]\n",
    "df_Match.shape[0]"
   ]
  },
  {
   "cell_type": "code",
   "execution_count": 10,
   "metadata": {},
   "outputs": [],
   "source": [
    "\n",
    "r1 =pd.merge(df_Match,df1, on='source_id', suffixes=(None,'_duplicate'))"
   ]
  },
  {
   "cell_type": "code",
   "execution_count": 11,
   "metadata": {},
   "outputs": [
    {
     "data": {
      "text/plain": [
       "125686"
      ]
     },
     "execution_count": 11,
     "metadata": {},
     "output_type": "execute_result"
    }
   ],
   "source": [
    "r1.shape[0]"
   ]
  },
  {
   "cell_type": "code",
   "execution_count": 12,
   "metadata": {},
   "outputs": [],
   "source": [
    "#r1.columns.sort_values().tolist()"
   ]
  },
  {
   "cell_type": "code",
   "execution_count": 13,
   "metadata": {},
   "outputs": [],
   "source": [
    "r1 = r1[['abp_gspphot',\n",
    " 'ag_esphs',\n",
    " 'ag_gspphot',\n",
    " 'age_flame',\n",
    " 'alphafe_gspspec',\n",
    " 'arp_gspphot',\n",
    " 'b',\n",
    " 'bp_g',\n",
    " 'bp_rp',\n",
    " 'cafe_gspspec',\n",
    " 'cefe_gspspec',\n",
    " 'classlabel_espels',\n",
    " 'crfe_gspspec',\n",
    " 'dec',\n",
    " 'distance_gspphot',\n",
    " 'ebpminrp_esphs',\n",
    " 'ebpminrp_gspphot',\n",
    " 'ecl_lat',\n",
    " 'ecl_lon',\n",
    " 'evolstage_flame',\n",
    " 'feiim_gspspec',\n",
    " 'fem_gspspec',\n",
    " 'g_rp',\n",
    " 'gravredshift_flame',\n",
    " 'l',\n",
    " 'logg_esphs',\n",
    " 'logg_gspphot',\n",
    " 'logg_gspspec',\n",
    " 'lum_flame',\n",
    " 'mass_flame',\n",
    " 'mg_gspphot',\n",
    " 'mgfe_gspspec',\n",
    " 'mh_gspphot',\n",
    " 'mh_gspspec',\n",
    " 'ndfe_gspspec',\n",
    " 'nfe_gspspec',\n",
    " 'nife_gspspec',\n",
    " 'parallax',\n",
    " 'phot_bp_mean_mag',\n",
    " 'phot_g_mean_mag',\n",
    " 'phot_rp_mean_mag',\n",
    " 'pm',\n",
    " 'pmdec',\n",
    " 'pmra',\n",
    " 'pseudocolour',\n",
    " 'ra',\n",
    " 'radial_velocity',\n",
    " 'radius_flame',\n",
    " 'radius_gspphot',\n",
    " 'sfe_gspspec',\n",
    " 'sife_gspspec',\n",
    " 'source_id',\n",
    " 'spectraltype_esphs',\n",
    " 'teff_esphs',\n",
    " 'teff_espucd',\n",
    " 'teff_gspphot',\n",
    " 'teff_gspspec',\n",
    " 'tife_gspspec',\n",
    " 'vsini_esphs',\n",
    " 'zrfe_gspspec']]"
   ]
  },
  {
   "cell_type": "code",
   "execution_count": 14,
   "metadata": {},
   "outputs": [],
   "source": [
    "r1.to_csv(\"r1_090621-093880.csv\")"
   ]
  },
  {
   "cell_type": "code",
   "execution_count": null,
   "metadata": {},
   "outputs": [],
   "source": []
  }
 ],
 "metadata": {
  "kernelspec": {
   "display_name": "Python 3.10.5 ('envMayavi')",
   "language": "python",
   "name": "python3"
  },
  "language_info": {
   "codemirror_mode": {
    "name": "ipython",
    "version": 3
   },
   "file_extension": ".py",
   "mimetype": "text/x-python",
   "name": "python",
   "nbconvert_exporter": "python",
   "pygments_lexer": "ipython3",
   "version": "3.10.5"
  },
  "orig_nbformat": 4,
  "vscode": {
   "interpreter": {
    "hash": "1b4dc7fd6dd855e4b9243df0e9f095f976d2b85af4f1173232e89dcfb254eee2"
   }
  }
 },
 "nbformat": 4,
 "nbformat_minor": 2
}
